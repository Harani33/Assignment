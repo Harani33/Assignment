{
  "nbformat": 4,
  "nbformat_minor": 0,
  "metadata": {
    "colab": {
      "provenance": []
    },
    "kernelspec": {
      "name": "python3",
      "display_name": "Python 3"
    },
    "language_info": {
      "name": "python"
    }
  },
  "cells": [
    {
      "cell_type": "markdown",
      "source": [
        "1. What are the five key concepts of Object-Oriented Programming (OOP)?\n",
        "\n",
        "Oops is a programming paradigm that uses objects and classes in programming.The main concept in python is to bind the data and functions that works together as a single unit,so that no other part of the code can access the data.The main aim is to implement the real world entities i.e.., the python oops concepts :\n",
        "\n",
        "1.  Inheritance in Python\n",
        "2.  Abstraction in Python\n",
        "3.  Polymorphism in Python\n",
        "4.  Encapsulation in Python\n",
        "5.  Class and static method in Python\n",
        "\n",
        "\n"
      ],
      "metadata": {
        "id": "ltKYUoVpkbF9"
      }
    },
    {
      "cell_type": "markdown",
      "source": [
        "2. Write a Python class for a `Car` with attributes for `make`, `model`, and `year`. Include a method to display the car's information.\n",
        "\n",
        "car-- Template with tyres,engines & colour as property attribte\n",
        "\n",
        "class Car: It is a template\n",
        "c1,c2,c3,c4 are object of the car\n",
        "\n",
        "c1=Car()instance\n"
      ],
      "metadata": {
        "id": "s73SgkHbl6SJ"
      }
    },
    {
      "cell_type": "code",
      "source": [
        "class Car:\n",
        "  def __init__(self,make,model,year):\n",
        "    self.make=make\n",
        "    self.model=model\n",
        "    self.year=year\n",
        "    self.odometer_reading=0\n",
        "  def get_descriptive_name(self):\n",
        "    long_name=f\"{self.year} {self.make} {self.model}\"\n",
        "    return long_name.title"
      ],
      "metadata": {
        "id": "irVF78X5nDcQ"
      },
      "execution_count": 1,
      "outputs": []
    },
    {
      "cell_type": "markdown",
      "source": [
        "3. Explain the difference between instance methods and class methods. Provide an example of each.\n",
        "\n",
        "Instance method : A method defined within a class taking 'self' as the first paameter reresentin the instance.\n",
        "\n",
        "--> Can acessand modify instance attributes.\n",
        "\n",
        "--> Recieves 'self' as the first argument.\n",
        "\n",
        "#syntax:\n",
        "class MyClas:\n",
        "    \n",
        "  def instance_method(self,arg1,arg2,....):\n",
        "      # instance method logic\n",
        "      pass"
      ],
      "metadata": {
        "id": "2EZE1pbFnbjF"
      }
    },
    {
      "cell_type": "code",
      "source": [
        "class Car:\n",
        "    def __init__(self, make, model, year):\n",
        "        self.make = make\n",
        "        self.model = model\n",
        "        self.year = year"
      ],
      "metadata": {
        "id": "iaRCbuRRotyf"
      },
      "execution_count": null,
      "outputs": []
    },
    {
      "cell_type": "markdown",
      "source": [
        "Class method:A method that bonds to the class itself is called Class method.\n",
        "\n",
        "--> It can access class atribues and modify them.\n",
        "\n",
        "--> Recieves 'cls' as the first argument.\n",
        "\n",
        "--> Defined as @classmethd.\n",
        "\n",
        "#syntax:\n",
        "class C(object):\n",
        "    \n",
        "    @classmethod\n",
        "    def fun(cls,ag1,arg,...):\n",
        "    pass"
      ],
      "metadata": {
        "id": "SnSchlB4o_zn"
      }
    },
    {
      "cell_type": "code",
      "source": [
        "class Student:\n",
        "    name =\"Harini\"\n",
        "    def print_name(self):\n",
        "        print(\"The name is\",self.name)"
      ],
      "metadata": {
        "id": "NXEwaAnhp88T"
      },
      "execution_count": 3,
      "outputs": []
    },
    {
      "cell_type": "code",
      "source": [
        "Student.print_name=classmethod(Student.print_name)\n",
        "Student.print_name()"
      ],
      "metadata": {
        "colab": {
          "base_uri": "https://localhost:8080/"
        },
        "id": "QuuWxQmvrLJi",
        "outputId": "6cc21bfb-e954-4334-ffa5-9d5b6ca2ff30"
      },
      "execution_count": 4,
      "outputs": [
        {
          "output_type": "stream",
          "name": "stdout",
          "text": [
            "The name is Harini\n"
          ]
        }
      ]
    },
    {
      "cell_type": "markdown",
      "source": [
        "4. How does Python implement method overloading? Give an example.\n",
        "\n",
        "Method overloading: It is a feature of oops where a class can have multiple methods with the same name but different parameters.To overload, we must change the number of parameters Or the type of parameters or both yo implement the method overloding define a method multiple times as shown below, the last definition will override the previous ones."
      ],
      "metadata": {
        "id": "HJYm8nf3rjVN"
      }
    },
    {
      "cell_type": "code",
      "source": [
        "class example:\n",
        "  def add(self,a,b,c=None):\n",
        "    x=0\n",
        "    if a is not None and b is not None and c is not None:\n",
        "      x=a+b+c\n",
        "    elif a is not None and b is not None and c is None:\n",
        "      x=a+b\n",
        "    return x\n",
        "obj=example()\n",
        "print(obj.add(1,2,3))\n",
        "print(obj.add(1,2))"
      ],
      "metadata": {
        "colab": {
          "base_uri": "https://localhost:8080/"
        },
        "id": "5odAN7wZsS10",
        "outputId": "e8e3dc0e-9d60-429f-d22d-cd60e85158a0"
      },
      "execution_count": 15,
      "outputs": [
        {
          "output_type": "stream",
          "name": "stdout",
          "text": [
            "6\n",
            "3\n"
          ]
        }
      ]
    },
    {
      "cell_type": "markdown",
      "source": [
        "5. What are the three types of access modifiers in Python? How are they denoted?\n",
        "\n",
        "Access modifiers in python control the visibility and accessibility of class members from outside the class.Python provides 3 types of access modifiers.\n",
        "\n",
        "Public:Public methods and fields can be accessed directly byany class.\n"
      ],
      "metadata": {
        "id": "CoRq05dtvep4"
      }
    },
    {
      "cell_type": "code",
      "source": [
        "class MyClass:\n",
        "  def __init__(self):\n",
        "    self.a=\"I am Public attribute\"\n",
        "  def a(self):\n",
        "    print(self.a)\n",
        "obj=MyClass()\n",
        "print(obj.a)"
      ],
      "metadata": {
        "colab": {
          "base_uri": "https://localhost:8080/"
        },
        "id": "jkXOSo5RwenE",
        "outputId": "45c47519-b8c4-45f7-a6ef-19bde31a8f18"
      },
      "execution_count": 17,
      "outputs": [
        {
          "output_type": "stream",
          "name": "stdout",
          "text": [
            "I am Public attribute\n"
          ]
        }
      ]
    },
    {
      "cell_type": "markdown",
      "source": [
        "Protected Protected methods an fields can be accessed within the same class it is declared nd its subclass."
      ],
      "metadata": {
        "id": "vla232Z3x_db"
      }
    },
    {
      "cell_type": "code",
      "source": [
        "class MyClass:\n",
        "  def __init__(self):\n",
        "    self._a=\"I am Protected attribute\"\n",
        "  def a(self):\n",
        "      print(\"I am Protected attribute\")\n",
        "class MyDerivedClass(MyClass):\n",
        "  def __init__(self):\n",
        "    super().__init__()\n",
        "  def access_protected_method(self):\n",
        "    print(self._a)\n",
        "    self.a()\n",
        "obj=MyDerivedClass()\n",
        "obj.access_protected_method()"
      ],
      "metadata": {
        "colab": {
          "base_uri": "https://localhost:8080/"
        },
        "id": "uVdarcxGvw1y",
        "outputId": "215253aa-b282-451b-996f-4ff337084162"
      },
      "execution_count": 20,
      "outputs": [
        {
          "output_type": "stream",
          "name": "stdout",
          "text": [
            "I am Protected attribute\n",
            "I am Protected attribute\n"
          ]
        }
      ]
    },
    {
      "cell_type": "markdown",
      "source": [
        "Private: Private methds and fields cab b onl acessed withi the same lass it diclared."
      ],
      "metadata": {
        "id": "-0d6CoEs0G5_"
      }
    },
    {
      "cell_type": "code",
      "source": [
        "class MyClasse:\n",
        "  def __init__(self):\n",
        "    self.a=\"I am Private attribute\"\n",
        "  def a(self):\n",
        "      print(\"I am Private attribute\")\n",
        "obj=MyClasse()"
      ],
      "metadata": {
        "id": "ZAY7QhuW0hCK"
      },
      "execution_count": 25,
      "outputs": []
    },
    {
      "cell_type": "markdown",
      "source": [
        "6. Describe the five types of inheritance in Python. Provide a simple example of multiple inheritance.\n",
        "\n",
        "Inheritance is defined as mechanism of inheritingthe properties of the base class to the child class.\n",
        "\n",
        "Type of in heritance:single iheritance:It eables a single parent class, thus ebablig code reusability and addition of new features to existing code.\n",
        "\n",
        "Multileel inheritance: In multilevelfweatures of he base las and the derived clss are further inherited into the new derived class.this is similar to a relatinship representing a child and a grandfather.\n",
        "\n",
        "Hierarchical inheritance when more han one derived class are crated from a singl base this type of inheritance is called hierachical ineritance. we hve a parent (base) class and child(derioved)classes.\n",
        "\n",
        "Hybrid  Inheritance: Inhritanceconssting of multiple types of inheritance isd called hybrid inhritance\n",
        "\n",
        "Multiple Inheritance:whn a class can be drived from mor than one base this type is callled Multiple Iheritance.All he feauires of the base clases are inherited into the derved class."
      ],
      "metadata": {
        "id": "K6FSs2K41N17"
      }
    },
    {
      "cell_type": "code",
      "source": [
        "class Mother:\n",
        "  Mothername=\"\"\n",
        "  def mother(self):\n",
        "    print(self.Mothername)\n",
        "class Father:\n",
        "  Fathername=\"\"\n",
        "  def father(self):\n",
        "    print(self.Fathername)\n",
        "class Son(Mother,Father):\n",
        "  def parents(self):\n",
        "    print(\"Father\",self.Fathername)\n",
        "    print(\"Mother\",self.Mothername)\n",
        "s1=Son()\n",
        "s1.Fathername=\"Rajesh\"\n",
        "s1.Mothername=\"Harini\"\n",
        "s1.parents()\n"
      ],
      "metadata": {
        "colab": {
          "base_uri": "https://localhost:8080/"
        },
        "id": "J5wCdLBX3gPI",
        "outputId": "06bfc919-c133-4c99-8f08-acf95e20066a"
      },
      "execution_count": 27,
      "outputs": [
        {
          "output_type": "stream",
          "name": "stdout",
          "text": [
            "Father Rajesh\n",
            "Mother Harini\n"
          ]
        }
      ]
    },
    {
      "cell_type": "markdown",
      "source": [
        "7. What is the Method Resolution Order (MRO) in Python? How can you retrieve it programmatically?\n",
        "\n",
        "Method Resolution Ode is te order in which Python looks fo a method in a hierarchy of casses.It plays vital roe in the context of multiple inheitace as sige method may be found in multiple super classes.\n",
        "\n",
        "Lets consider one case: we have class c erived from bohA and B . When method process () is called with objet of class c then Proces () mthod in class  is calld.Python constructs the order in which it wioll look for a method in the hierrchy f classes ..It uses rthis order known as MRO , to determine whic method it actually calls."
      ],
      "metadata": {
        "id": "AdSzt-Mb3_oD"
      }
    },
    {
      "cell_type": "code",
      "source": [
        "class A:\n",
        " def process(self):\n",
        "  print(\"A process()\")\n",
        "class B:\n",
        "  pass\n",
        "class C(A,B):\n",
        "  pass\n",
        "obj=C()\n",
        "obj.process()\n",
        "print(C.__mro__)\n",
        "#output"
      ],
      "metadata": {
        "colab": {
          "base_uri": "https://localhost:8080/"
        },
        "id": "uhExNVLF5PF6",
        "outputId": "d97d0f83-8950-4dcd-a8fe-1efd64558c86"
      },
      "execution_count": 29,
      "outputs": [
        {
          "output_type": "stream",
          "name": "stdout",
          "text": [
            "A process()\n",
            "(<class '__main__.C'>, <class '__main__.A'>, <class '__main__.B'>, <class 'object'>)\n"
          ]
        }
      ]
    },
    {
      "cell_type": "markdown",
      "source": [
        "8.Create an abstract base class `Shape` with an abstract method `area()`. Then create two subclasses\n",
        "`Circle` and `Rectangle` that implement the `area()` method."
      ],
      "metadata": {
        "id": "VRfeEMNG50TS"
      }
    },
    {
      "cell_type": "code",
      "source": [
        "class Shape():\n",
        "  def area(self):\n",
        "    pass\n",
        "class Circle(Shape):\n",
        "  def area(self):\n",
        "      print(\"I have no side\")\n",
        "class Rectangle(Shape):\n",
        "  def area(self):\n",
        "      print(\"I have  4 sides\")\n",
        "C = Circle()\n",
        "C.area()\n",
        "R = Rectangle()\n",
        "R.area()\n",
        "\n",
        ""
      ],
      "metadata": {
        "colab": {
          "base_uri": "https://localhost:8080/"
        },
        "id": "JsQBaoDj6Bxl",
        "outputId": "b3fa2579-a0be-42ce-e002-f578f15ae824"
      },
      "execution_count": 32,
      "outputs": [
        {
          "output_type": "stream",
          "name": "stdout",
          "text": [
            "I have no side\n",
            "I have  4 sides\n"
          ]
        }
      ]
    },
    {
      "cell_type": "markdown",
      "source": [
        "9.Cemonstrate polymorphism by creating a function that can work with different shape objects to calculate\n",
        "and print their areas.\n",
        "\n"
      ],
      "metadata": {
        "id": "3uqJM1918Nww"
      }
    },
    {
      "cell_type": "code",
      "source": [
        "class Rectangle:\n",
        "    def area(self, length, width):\n",
        "        self.length = length\n",
        "        self.width = width\n",
        "        return self.length * self.width\n",
        "class Square:\n",
        "    def area(self,side):\n",
        "        self.side = side\n",
        "        return self.side * self.side\n",
        "obj_rect=Rectangle()\n",
        "obj_square=Square()\n",
        "obj_rect.area(10,20)\n",
        "obj_square.area(10)\n",
        "print(\"Area of rectangle:\",obj_rect.area(10,20))\n",
        "print(\"Area of Square:\",obj_square.area(20))\n"
      ],
      "metadata": {
        "colab": {
          "base_uri": "https://localhost:8080/"
        },
        "id": "UdECkDX78Z8_",
        "outputId": "02e33b3e-d7f7-40b8-ea0b-7a298e6c8c2f"
      },
      "execution_count": 38,
      "outputs": [
        {
          "output_type": "stream",
          "name": "stdout",
          "text": [
            "Area of rectangle: 200\n",
            "Area of Square: 400\n"
          ]
        }
      ]
    },
    {
      "cell_type": "markdown",
      "source": [
        "10. Implement encapsulation in a `BankAccount` class with private attributes for `balance` and\n",
        "`account_number`. Include methods for deposit, withdrawal, and balance inquiry."
      ],
      "metadata": {
        "id": "_fAYhSy6-jMT"
      }
    },
    {
      "cell_type": "code",
      "source": [
        "class BankAccount:\n",
        "    def __init__(self, balance,account_number):\n",
        "        self.__balance = balance\n",
        "        self.__account_number = account_number\n",
        "account = BankAccount(1000, \"123456789\")\n",
        "account.deposit(500)\n",
        "account.withdraw(200)\n",
        "print(\"Account balance: \", account.get_balance())\n"
      ],
      "metadata": {
        "colab": {
          "base_uri": "https://localhost:8080/",
          "height": 211
        },
        "id": "NBNk6cyC-nvt",
        "outputId": "5a75237c-c4ba-4837-e742-d1f8f1bdc407"
      },
      "execution_count": 51,
      "outputs": [
        {
          "output_type": "error",
          "ename": "AttributeError",
          "evalue": "'BankAccount' object has no attribute 'deposit'",
          "traceback": [
            "\u001b[0;31m---------------------------------------------------------------------------\u001b[0m",
            "\u001b[0;31mAttributeError\u001b[0m                            Traceback (most recent call last)",
            "\u001b[0;32m<ipython-input-51-5f89272de365>\u001b[0m in \u001b[0;36m<cell line: 6>\u001b[0;34m()\u001b[0m\n\u001b[1;32m      4\u001b[0m         \u001b[0mself\u001b[0m\u001b[0;34m.\u001b[0m\u001b[0m__account_number\u001b[0m \u001b[0;34m=\u001b[0m \u001b[0maccount_number\u001b[0m\u001b[0;34m\u001b[0m\u001b[0;34m\u001b[0m\u001b[0m\n\u001b[1;32m      5\u001b[0m \u001b[0maccount\u001b[0m \u001b[0;34m=\u001b[0m \u001b[0mBankAccount\u001b[0m\u001b[0;34m(\u001b[0m\u001b[0;36m1000\u001b[0m\u001b[0;34m,\u001b[0m \u001b[0;34m\"123456789\"\u001b[0m\u001b[0;34m)\u001b[0m\u001b[0;34m\u001b[0m\u001b[0;34m\u001b[0m\u001b[0m\n\u001b[0;32m----> 6\u001b[0;31m \u001b[0maccount\u001b[0m\u001b[0;34m.\u001b[0m\u001b[0mdeposit\u001b[0m\u001b[0;34m(\u001b[0m\u001b[0;36m500\u001b[0m\u001b[0;34m)\u001b[0m\u001b[0;34m\u001b[0m\u001b[0;34m\u001b[0m\u001b[0m\n\u001b[0m\u001b[1;32m      7\u001b[0m \u001b[0maccount\u001b[0m\u001b[0;34m.\u001b[0m\u001b[0mwithdraw\u001b[0m\u001b[0;34m(\u001b[0m\u001b[0;36m200\u001b[0m\u001b[0;34m)\u001b[0m\u001b[0;34m\u001b[0m\u001b[0;34m\u001b[0m\u001b[0m\n\u001b[1;32m      8\u001b[0m \u001b[0mprint\u001b[0m\u001b[0;34m(\u001b[0m\u001b[0;34m\"Account balance: \"\u001b[0m\u001b[0;34m,\u001b[0m \u001b[0maccount\u001b[0m\u001b[0;34m.\u001b[0m\u001b[0mget_balance\u001b[0m\u001b[0;34m(\u001b[0m\u001b[0;34m)\u001b[0m\u001b[0;34m)\u001b[0m\u001b[0;34m\u001b[0m\u001b[0;34m\u001b[0m\u001b[0m\n",
            "\u001b[0;31mAttributeError\u001b[0m: 'BankAccount' object has no attribute 'deposit'"
          ]
        }
      ]
    },
    {
      "cell_type": "markdown",
      "source": [
        "11. Write a class that overrides the `__str__` and `__add__` magic methods. What will these methods allow\n",
        "you to do?\n",
        "\n",
        "These magic methods are defined in built-i classes in python and commonly used for operator overloading."
      ],
      "metadata": {
        "id": "i6IZkPoyBiVg"
      }
    },
    {
      "cell_type": "code",
      "source": [
        "class string:\n",
        "  def __init__(self,string):\n",
        "    self.string=string\n",
        "  def __repr__(self):\n",
        "    return 'Object:{}'.format(self.string)\n",
        "  def __add__(self,other):\n",
        "    return self.string+other\n",
        "if __name__ == '__main__':\n",
        "  string1=string('Hello')\n",
        "  print(string1+'world')\n"
      ],
      "metadata": {
        "colab": {
          "base_uri": "https://localhost:8080/"
        },
        "id": "C-98IGgnB6eZ",
        "outputId": "cdd2dc51-9edc-4432-d9b5-717f103bd54c"
      },
      "execution_count": 53,
      "outputs": [
        {
          "output_type": "stream",
          "name": "stdout",
          "text": [
            "Helloworld\n"
          ]
        }
      ]
    },
    {
      "cell_type": "markdown",
      "source": [
        "12. Create a decorator that measures and prints the execution time of a function.\n",
        "\n"
      ],
      "metadata": {
        "id": "W-K6KXSMES8j"
      }
    },
    {
      "cell_type": "code",
      "source": [
        "import time\n",
        "import math\n",
        "def calculate_time(func):\n",
        "    def inner1(*arg,**kwargs):\n",
        "    func(*args,**kwargs)\n",
        "    end=time.time()\n",
        "    print(\"Total time taken in:\",\n",
        "          func.__name__,end-begin)\n",
        "    return inner,\n",
        "    @calculate_time\n",
        "    def factorial(num):\n",
        "      time.sleep(2)\n",
        "      print(math.factorial(num))\n",
        "    factoial(10)"
      ],
      "metadata": {
        "colab": {
          "base_uri": "https://localhost:8080/",
          "height": 106
        },
        "id": "KnD8IQUgFzi3",
        "outputId": "205a5097-7ac0-413e-eb80-af299c0bf7b5"
      },
      "execution_count": 55,
      "outputs": [
        {
          "output_type": "error",
          "ename": "IndentationError",
          "evalue": "expected an indented block after function definition on line 4 (<ipython-input-55-2f43d25b9d98>, line 5)",
          "traceback": [
            "\u001b[0;36m  File \u001b[0;32m\"<ipython-input-55-2f43d25b9d98>\"\u001b[0;36m, line \u001b[0;32m5\u001b[0m\n\u001b[0;31m    func(*args,**kwargs)\u001b[0m\n\u001b[0m    ^\u001b[0m\n\u001b[0;31mIndentationError\u001b[0m\u001b[0;31m:\u001b[0m expected an indented block after function definition on line 4\n"
          ]
        }
      ]
    },
    {
      "cell_type": "markdown",
      "source": [
        " 13.Explain the concept of the Diamond Problem in multiple inheritance. How does Python resolve it?\n",
        "\n",
        " It is an ambiguity that raises when a class inherits from two or more claases that have one common super class.\n",
        "\n",
        " creation of Diamond problem:\n",
        "\n",
        " Class D inherita from both B and c, and B and c both inherit from A.Now ,if there is a method in A that B and C have overriodden and D does not override it, then which version of the method does D inherit? Is it the one from B or C.\n",
        "\n",
        " Solution: Python has the way to address this issue, it uses on approach called Method Resolution Order (MRO),which follows the cs linearization or just c3 super class linearization."
      ],
      "metadata": {
        "id": "VeNmZTnLGyk2"
      }
    },
    {
      "cell_type": "markdown",
      "source": [
        "14. Write a class method that keeps track of the number of instances created from a class.\n",
        "\n",
        "we define a class method 'get_Count()' in the 'Counter' class.This method returns the value of the class attribute 'count',which keeps track of the number of instances created from a class."
      ],
      "metadata": {
        "id": "HjdL7Y4KBiTK"
      }
    },
    {
      "cell_type": "code",
      "source": [
        "class Counter:\n",
        "    count = 0\n",
        "    def __init__(self):\n",
        "        Counter.count += 1\n",
        "    @classmethod\n",
        "    def get_count(cls):\n",
        "        return cls.count\n",
        "c1=Counter()\n",
        "c2=Counter()\n",
        "c3=Counter()\n",
        "print(\"count:\",Counter.get_count())"
      ],
      "metadata": {
        "colab": {
          "base_uri": "https://localhost:8080/"
        },
        "id": "_sWhr_CAIN7A",
        "outputId": "3c275b77-5885-443f-81c2-5a512b6355fd"
      },
      "execution_count": 56,
      "outputs": [
        {
          "output_type": "stream",
          "name": "stdout",
          "text": [
            "count: 3\n"
          ]
        }
      ]
    },
    {
      "cell_type": "markdown",
      "source": [
        "15. Implement a static method in a class that checks if a given year is a leap year.\n",
        "\n",
        "\n",
        "A Leap year is a year that contains an additional day, & maks 366 days for year.\n",
        "\n",
        "Conditions to be satisfied:\n",
        "The year is a multiple of 400,4 and not a multiple of 100"
      ],
      "metadata": {
        "id": "wqqISxG1Iwb2"
      }
    },
    {
      "cell_type": "code",
      "source": [
        "def checkleap(Year):\n",
        " if Year % 4 == 0:\n",
        "     if Year % 100 == 0:\n",
        "        if Year % 400 == 0:\n",
        "           print(f\"{Year}is a leap year.\")\n",
        "        else:\n",
        "            print(f\"{Year}is not a leap year.\")\n",
        "     else:\n",
        "        print(f\"{Year}is a leap year.\")\n",
        "Year = int(input(\"Enter the number: \"))\n",
        "checkleap(Year)\n",
        "\n"
      ],
      "metadata": {
        "id": "c9n2BEYVJULr"
      },
      "execution_count": null,
      "outputs": []
    }
  ]
}