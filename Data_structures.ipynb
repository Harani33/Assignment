{
  "nbformat": 4,
  "nbformat_minor": 0,
  "metadata": {
    "colab": {
      "provenance": []
    },
    "kernelspec": {
      "name": "python3",
      "display_name": "Python 3"
    },
    "language_info": {
      "name": "python"
    }
  },
  "cells": [
    {
      "cell_type": "markdown",
      "source": [
        "1.**Discuss String slicing and provide examples.**\n",
        "\n",
        "\n",
        "--> String is Immutable\n",
        "--> A string in Python can contain letters,numbers,spaces,punctuation or any other characters.\n",
        "--> Slicing allows us to extract a partial sequence from a string.\n",
        "--> To slice a string in Python, we use indexes.\n",
        "--> The index of the first character in a string is 0, the second  \n",
        "character is 1 and so on.\n",
        "--> We simply specify the index of the starting and ending characters of the slice, we wnat to extract.\n",
        "--> use cases of string slicing:Iteration\n",
        "modification of string\n",
        "string searching\n",
        "string splitting\n",
        "\n",
        "*example*:\n",
        "\n",
        "\n",
        "\n",
        "\n"
      ],
      "metadata": {
        "id": "3Lf4__mV0jDV"
      }
    },
    {
      "cell_type": "code",
      "source": [
        "string1=\"I am a good student\"\n",
        "print(string1[0:4])"
      ],
      "metadata": {
        "colab": {
          "base_uri": "https://localhost:8080/"
        },
        "id": "9h5YVRDJ3cuU",
        "outputId": "f50618ee-d30f-4165-931f-c691d332c6bb"
      },
      "execution_count": 1,
      "outputs": [
        {
          "output_type": "stream",
          "name": "stdout",
          "text": [
            "I am\n"
          ]
        }
      ]
    },
    {
      "cell_type": "code",
      "execution_count": 2,
      "metadata": {
        "colab": {
          "base_uri": "https://localhost:8080/"
        },
        "id": "ulJtLREE0VNJ",
        "outputId": "44d8fa53-b27d-4d28-9f1c-1a9c6ba4dc74"
      },
      "outputs": [
        {
          "output_type": "stream",
          "name": "stdout",
          "text": [
            "ello World\n",
            "Hello Wo\n",
            "llo Wo\n",
            "HloWrd\n",
            "dlroW olleH\n"
          ]
        }
      ],
      "source": [
        "description=\"Hello World\"\n",
        "print(description[1:])\n",
        "print(description[:8])\n",
        "print(description[2:8])\n",
        "print(description[::2])\n",
        "print(description[::-1])"
      ]
    },
    {
      "cell_type": "markdown",
      "source": [
        "2.**what are the key features of lists in Python**\n",
        "\n",
        "Features of list in Python:\n",
        "\n",
        "--> Lists are mutable\n",
        "--> It is an ordered collection of items.\n",
        "--> The items can be added,removed or changed after the list is defined.\n",
        "--> Lists can contain items of different types at the sme time, including strings,integers,floating point and boolean values.\n",
        "--> List use zero-based indexing every list item has an associated index,and the first item in the index is zero\n",
        "--> The items have a defined order & that order will not be changed.\n",
        "--> It can change add and remove items in alist after it has been created.\n",
        "--> It allows duplicates.\n",
        "--> List length can be determined by using a len() function.    "
      ],
      "metadata": {
        "id": "4PbxaiGx0gYq"
      }
    },
    {
      "cell_type": "markdown",
      "source": [
        "3. **How to access,modify and delete elements in a list with examples.**\n",
        "\n",
        "-->*Access*:To create a list, we need to write a set of items within square bracktes[] and seperate each item with comma,each item in a list has assigned value index.The first item in the list starts at index 0\n",
        "--> Python also supports negative indexing, it starts at the end.\n",
        "--> To access its value print index of the associated item in the list."
      ],
      "metadata": {
        "id": "CH-1JpqC4xWK"
      }
    },
    {
      "cell_type": "code",
      "source": [
        "z=[3,7,4,2]\n",
        "print(z[0])\n",
        "print(z[-1])\n",
        "print(z[2])\n",
        "print(z[-3])"
      ],
      "metadata": {
        "colab": {
          "base_uri": "https://localhost:8080/"
        },
        "id": "kaSPcnyz9B0y",
        "outputId": "b4eced05-c384-43ab-baef-17fe38a467d1"
      },
      "execution_count": 4,
      "outputs": [
        {
          "output_type": "stream",
          "name": "stdout",
          "text": [
            "3\n",
            "2\n",
            "4\n",
            "7\n"
          ]
        }
      ]
    },
    {
      "cell_type": "markdown",
      "source": [
        "-->*Modification methods*: In this method we can use index() ,insert(), append(), extend() fuctions to modify list.\n",
        "\n",
        "example:"
      ],
      "metadata": {
        "id": "ohmu8Df39UpY"
      }
    },
    {
      "cell_type": "code",
      "source": [
        "grocery_list=[\"milk \",\"bread\",\"eggs\",3+5j]\n",
        "grocery_list[2]\n",
        "print(grocery_list)\n",
        "grocery_list[0:1]\n",
        "print(grocery_list)\n",
        "grocery_list[1]=\"butter\"\n",
        "print(grocery_list)\n",
        "grocery_list.append(\"butter\")\n",
        "print(grocery_list)\n",
        "grocery_list.insert(1,\"cheese\")\n",
        "print(grocery_list)\n",
        "grocery_list.extend([\"yogurt\",\"juice\"])\n",
        "print(grocery_list)"
      ],
      "metadata": {
        "colab": {
          "base_uri": "https://localhost:8080/"
        },
        "id": "5Lu6ylhO-OmE",
        "outputId": "80f7e22e-b5bd-4538-88d9-a17e04882e3c"
      },
      "execution_count": 5,
      "outputs": [
        {
          "output_type": "stream",
          "name": "stdout",
          "text": [
            "['milk ', 'bread', 'eggs', (3+5j)]\n",
            "['milk ', 'bread', 'eggs', (3+5j)]\n",
            "['milk ', 'butter', 'eggs', (3+5j)]\n",
            "['milk ', 'butter', 'eggs', (3+5j), 'butter']\n",
            "['milk ', 'cheese', 'butter', 'eggs', (3+5j), 'butter']\n",
            "['milk ', 'cheese', 'butter', 'eggs', (3+5j), 'butter', 'yogurt', 'juice']\n"
          ]
        }
      ]
    },
    {
      "cell_type": "markdown",
      "source": [
        "Delete : To delete elements in a list use remove() function\n"
      ],
      "metadata": {
        "id": "JOme5_I2_6k7"
      }
    },
    {
      "cell_type": "code",
      "source": [
        "grocery_list=[\"milk\",\"orange\",\"bread\",\"eggs\"]\n",
        "grocery_list.remove(\"milk\")\n",
        "print(grocery_list)"
      ],
      "metadata": {
        "colab": {
          "base_uri": "https://localhost:8080/"
        },
        "id": "IpVXZmJsAMxI",
        "outputId": "263c3b22-ea10-45a4-e27f-4d364673b4aa"
      },
      "execution_count": 9,
      "outputs": [
        {
          "output_type": "stream",
          "name": "stdout",
          "text": [
            "['orange', 'bread', 'eggs']\n"
          ]
        }
      ]
    },
    {
      "cell_type": "markdown",
      "source": [
        "**4. Compare contrast Tuples and Lists with examples.**\n",
        "\n",
        "\n",
        "Tuples: Tuples are immutable that cant be modified after creation.\n",
        "---> Defined using parentheses()\n",
        "---> Tuples are also sequence data types containing elements of different data types.\n",
        "---> It comes in handy when storing a collection of items, especially if you want them to remain same faster than lists.\n",
        "---> Tuples are static.\n",
        "---> An index is used to traverse a tuple.\n",
        " *examples:*\n",
        "\n",
        "\n",
        "\n"
      ],
      "metadata": {
        "id": "2K5wYAvBBLta"
      }
    },
    {
      "cell_type": "code",
      "source": [
        " tuple_num=(1,2,3,4,5)\n",
        " tup_num[2]=7\n",
        " print(tup_num)"
      ],
      "metadata": {
        "colab": {
          "base_uri": "https://localhost:8080/",
          "height": 176
        },
        "id": "XHnSEA1ZEYyS",
        "outputId": "e3ade2ec-188f-42ae-bc19-eadc97191073"
      },
      "execution_count": 11,
      "outputs": [
        {
          "output_type": "error",
          "ename": "NameError",
          "evalue": "name 'tup_num' is not defined",
          "traceback": [
            "\u001b[0;31m---------------------------------------------------------------------------\u001b[0m",
            "\u001b[0;31mNameError\u001b[0m                                 Traceback (most recent call last)",
            "\u001b[0;32m<ipython-input-11-40e553f0ce16>\u001b[0m in \u001b[0;36m<cell line: 2>\u001b[0;34m()\u001b[0m\n\u001b[1;32m      1\u001b[0m \u001b[0mtuple_num\u001b[0m\u001b[0;34m=\u001b[0m\u001b[0;34m(\u001b[0m\u001b[0;36m1\u001b[0m\u001b[0;34m,\u001b[0m\u001b[0;36m2\u001b[0m\u001b[0;34m,\u001b[0m\u001b[0;36m3\u001b[0m\u001b[0;34m,\u001b[0m\u001b[0;36m4\u001b[0m\u001b[0;34m,\u001b[0m\u001b[0;36m5\u001b[0m\u001b[0;34m)\u001b[0m\u001b[0;34m\u001b[0m\u001b[0;34m\u001b[0m\u001b[0m\n\u001b[0;32m----> 2\u001b[0;31m \u001b[0mtup_num\u001b[0m\u001b[0;34m[\u001b[0m\u001b[0;36m2\u001b[0m\u001b[0;34m]\u001b[0m\u001b[0;34m=\u001b[0m\u001b[0;36m7\u001b[0m\u001b[0;34m\u001b[0m\u001b[0;34m\u001b[0m\u001b[0m\n\u001b[0m\u001b[1;32m      3\u001b[0m \u001b[0mprint\u001b[0m\u001b[0;34m(\u001b[0m\u001b[0mtup_num\u001b[0m\u001b[0;34m)\u001b[0m\u001b[0;34m\u001b[0m\u001b[0;34m\u001b[0m\u001b[0m\n",
            "\u001b[0;31mNameError\u001b[0m: name 'tup_num' is not defined"
          ]
        }
      ]
    },
    {
      "cell_type": "markdown",
      "source": [
        "\n",
        "*lists:*\n",
        "--> lists are mutable\n",
        "--> Defined using square brackets[]\n",
        "--> slower than tuples.\n",
        "--> An index is used to traverse a list.\n",
        "\n",
        "*examples:*"
      ],
      "metadata": {
        "id": "VvMuuTr6ExGK"
      }
    },
    {
      "cell_type": "code",
      "source": [
        "list_num=[1,2,3,4,5]\n",
        "list_num[2]=7\n",
        "print(list_num)"
      ],
      "metadata": {
        "colab": {
          "base_uri": "https://localhost:8080/"
        },
        "id": "MFLHhB4IFdYT",
        "outputId": "dd22b046-baff-49cf-cfca-2a47c3bd37d1"
      },
      "execution_count": 12,
      "outputs": [
        {
          "output_type": "stream",
          "name": "stdout",
          "text": [
            "[1, 2, 7, 4, 5]\n"
          ]
        }
      ]
    },
    {
      "cell_type": "markdown",
      "source": [
        "**5.Describe the key features of sets and provide examples of their use in Python**\n",
        "\n",
        "---> Sets are used to store multiple items in a single variable.\n",
        "---> A set is a collection which is unordered,unchangable and unindexed.\n",
        "---> sets are mutable,where we can add or remove elements after their creation.\n",
        "---> Sets are represented by curly braces {}\n",
        "---> add() can add single item to the set\n",
        "---> remove() can remove item from set\n",
        "---> pop() is used to return and remove an arbitory set item,key error is raised if the set is empty.\n",
        "*examples:*"
      ],
      "metadata": {
        "id": "c-XnRJ_MFnAC"
      }
    },
    {
      "cell_type": "code",
      "source": [
        "var={1,2,3,4,5}\n",
        "var.add(6)\n",
        "print(var)\n",
        "var.remove(3)\n",
        "print(var)\n",
        "var.pop()\n",
        "print(var)"
      ],
      "metadata": {
        "colab": {
          "base_uri": "https://localhost:8080/"
        },
        "id": "qO3s2qnHHXAl",
        "outputId": "64d8f8cb-64eb-4bfb-e701-027e453347c1"
      },
      "execution_count": 13,
      "outputs": [
        {
          "output_type": "stream",
          "name": "stdout",
          "text": [
            "{1, 2, 3, 4, 5, 6}\n",
            "{1, 2, 4, 5, 6}\n",
            "{2, 4, 5, 6}\n"
          ]
        }
      ]
    },
    {
      "cell_type": "markdown",
      "source": [
        "**6.Discuss the use cases of tuples and sets in Python programming**\n",
        "\n",
        "Tuples are immutable collection of variables, so they can't be changed after creation.\n",
        "use tuples as a data structur where you don't want to modify a data.\n",
        "use cases:\n",
        "ordered,Iterable,Hashable.\n",
        "\n",
        "\n",
        "1.   ordered:they comtain elements that are sequentially arranged according to their specific insertion order\n",
        "2.   Iterable:they support iteration, so you can traverse them using a loop or comprehension while you perform opertaions with each of their elements\n",
        "3.   Hashable:they can work as keys in dictionaries when all the tuple items are immutable.\n",
        "\n",
        "Sets are mutable and they are commonly used for\n",
        "\n",
        "1.   union:combines elements from two sets excluding duplicates.\n",
        "2.   intersections:only common elements between the sets.\n",
        "3.   difference:return the elements that is present in first set and not in second.\n",
        "4.   symmetric difference:returns elements that are present in either of sets but not in both.\n",
        "\n",
        "\n",
        "\n"
      ],
      "metadata": {
        "id": "PZ2ySsJnHq48"
      }
    },
    {
      "cell_type": "code",
      "source": [],
      "metadata": {
        "id": "KQ5WrHejKWZ0"
      },
      "execution_count": null,
      "outputs": []
    },
    {
      "cell_type": "markdown",
      "source": [
        "**7.Describe how to add,modify and delete items in a dictionary with examples**\n",
        "\n",
        "Dictionaries are data structures that stores data as key:value pair.\n",
        "\n",
        "only string and numbers can be used as a key of the dictionary.\n",
        "\n",
        "keys are immutable.\n",
        "\n",
        "we can only access value with key,vice-versa is not possible.\n",
        "\n",
        "we can add,update,delete,modify using the specified key-value pairs\n",
        "\n",
        "*examples:*\n"
      ],
      "metadata": {
        "id": "0OEkqBRLK25P"
      }
    },
    {
      "cell_type": "code",
      "source": [
        "d={\"name\":\"Harini\",\"email\":\"n@gmail.com\",\"contact\":\"1234\"}\n",
        "print(d)\n",
        "print(d[\"name\"])\n",
        "print(d[\"email\"])\n",
        "print(d[\"contact\"])\n",
        "d.update({\"name\":\"Divya\"})\n",
        "print(d)\n",
        "d.pop(\"contact\")\n",
        "print(d)\n",
        "d.get(\"email\")\n",
        "print(d)\n",
        "d.clear()\n",
        "print(d)"
      ],
      "metadata": {
        "colab": {
          "base_uri": "https://localhost:8080/"
        },
        "id": "lRX_ExVGMeMB",
        "outputId": "f1fc6907-db3e-4e26-b928-75ef7293b7db"
      },
      "execution_count": 33,
      "outputs": [
        {
          "output_type": "stream",
          "name": "stdout",
          "text": [
            "{'name': 'Harini', 'email': 'n@gmail.com', 'contact': '1234'}\n",
            "Harini\n",
            "n@gmail.com\n",
            "1234\n",
            "{'name': 'Divya', 'email': 'n@gmail.com', 'contact': '1234'}\n",
            "{'name': 'Divya', 'email': 'n@gmail.com'}\n",
            "{'name': 'Divya', 'email': 'n@gmail.com'}\n",
            "{}\n"
          ]
        }
      ]
    },
    {
      "cell_type": "code",
      "source": [
        "d.fromkeys((1,2,3),(\"a\",\"b\",\"c\"))\n",
        "print(d)"
      ],
      "metadata": {
        "colab": {
          "base_uri": "https://localhost:8080/"
        },
        "id": "-XPKBrjWRK-K",
        "outputId": "78ee40ed-a21c-4f7e-cea0-260e072d8294"
      },
      "execution_count": 39,
      "outputs": [
        {
          "output_type": "stream",
          "name": "stdout",
          "text": [
            "{}\n"
          ]
        }
      ]
    },
    {
      "cell_type": "markdown",
      "source": [
        "**8.Discuss the imp[ortance of dictionary keys being immutable and provide examples**\n",
        "\n",
        "Dictionary is immutable\n",
        "\n",
        "integer,float,boolean can also be a key of dictionary\n",
        "\n",
        "in this we cannot use #,@ as a key\n",
        "\n",
        "only string and numbers can be used as a key of dictionary.\n",
        "The hash table implementation of dictionaries uses a hash value\n",
        "calculated from the key value to find the key\n",
        "\n",
        "*Example:*\n",
        "convert the list to a tuple first.the function tuple(mylist)creates a tuple with the same entries as the list mylist.\n",
        "\n",
        "tuples are immutable and can therefore be used as dictionary keys.\n"
      ],
      "metadata": {
        "id": "z1jVFnC-R3uy"
      }
    },
    {
      "cell_type": "code",
      "source": [
        "mylist=[\"Jacob\",\"Harry\",\"Mark\"]\n",
        "print(mylist)\n",
        "res=tuple(mylist)\n",
        "print(\"tuple=\",res)\n",
        "dct={2:\"num\",\"demo\":\"string\"}\n",
        "print(\"Dictionary\")\n",
        "print(dct)\n",
        "dct[2]=res\n",
        "print(\"\\nupdated Dictionary(tuple as key)...\")\n",
        "print(dct)"
      ],
      "metadata": {
        "colab": {
          "base_uri": "https://localhost:8080/"
        },
        "id": "IkUnFUpWTdKw",
        "outputId": "475a341a-0f5d-4b2d-d01c-129b802d1a9c"
      },
      "execution_count": 41,
      "outputs": [
        {
          "output_type": "stream",
          "name": "stdout",
          "text": [
            "['Jacob', 'Harry', 'Mark']\n",
            "tuple= ('Jacob', 'Harry', 'Mark')\n",
            "Dictionary\n",
            "{2: 'num', 'demo': 'string'}\n",
            "\n",
            "updated Dictionary(tuple as key)...\n",
            "{2: ('Jacob', 'Harry', 'Mark'), 'demo': 'string'}\n"
          ]
        }
      ]
    }
  ]
}