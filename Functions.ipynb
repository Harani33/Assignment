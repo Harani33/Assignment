{
  "nbformat": 4,
  "nbformat_minor": 0,
  "metadata": {
    "colab": {
      "provenance": []
    },
    "kernelspec": {
      "name": "python3",
      "display_name": "Python 3"
    },
    "language_info": {
      "name": "python"
    }
  },
  "cells": [
    {
      "cell_type": "markdown",
      "source": [
        "        **Theory Questions**\n",
        "\n",
        "** 1. What is the difference between a function and a method in Python?**\n",
        "\n",
        "Function:Not associated wh any objects.\n",
        "\n",
        "-->It is called by its name.\n",
        "\n",
        "-->It doesn't depend on any class.\n",
        "\n",
        "-->It is an identical entity.\n",
        "\n",
        "-->It doesn't require any self-argument.\n",
        "\n",
        "-->It operates on the data that you pass to them as an argument.\n",
        "\n",
        "*example:*"
      ],
      "metadata": {
        "id": "bxteEag2Qntw"
      }
    },
    {
      "cell_type": "code",
      "source": [
        "def factorial(n):\n",
        "  return 1 if (n==1 or n==0) else n * factorial(n - 1);\n",
        "  n=int(input(\"Enter a number:\"))\n",
        "  print(\"Factorial of\",n,\"is\",factorial(n))"
      ],
      "metadata": {
        "id": "Ax2E64AASMsM"
      },
      "execution_count": 88,
      "outputs": []
    },
    {
      "cell_type": "markdown",
      "source": [
        "Method:Assoociated with the class object.\n",
        "\n",
        "-->It is called on an object.\n",
        "\n",
        "-->It depends on the class they belong to.\n",
        "\n",
        "-->It requires the self as its first argument.\n",
        "\n",
        "-->It operates on the data of the object it associates with.\n",
        "\n",
        "*example:*"
      ],
      "metadata": {
        "id": "2bccSIM0SiSK"
      }
    },
    {
      "cell_type": "code",
      "source": [
        "class employee(object):\n",
        " def my_method(self):\n",
        "  print(\"This is my method\")\n",
        "  name=employee()\n",
        "  name.my_method()"
      ],
      "metadata": {
        "id": "cosXE_w3Thyr"
      },
      "execution_count": 93,
      "outputs": []
    },
    {
      "cell_type": "markdown",
      "source": [
        "**2.Explain the concept of function arguments and parameters in Python.**\n",
        "\n",
        "Function arguments:An argument is a value that is passed to a function when it is called.It might be a variable,value or object passed to a function or method as input.They are written when we are calling the function.\n",
        "\n",
        "types of argumets:\n",
        "\n",
        "1.   Positional arguments\n",
        "2.   Keyword arguments\n",
        "\n",
        "*Example:*Here the values 10,2 are arguments\n",
        "\n"
      ],
      "metadata": {
        "id": "0YRjkVM4UtM5"
      }
    },
    {
      "cell_type": "code",
      "source": [
        "def sum(a,b):\n",
        "  print(a+b)\n",
        "sum(10,2)"
      ],
      "metadata": {
        "colab": {
          "base_uri": "https://localhost:8080/"
        },
        "id": "v9o8jwXLV3qX",
        "outputId": "a4efd74c-122f-42c5-e03b-f956f24b56c7"
      },
      "execution_count": 98,
      "outputs": [
        {
          "output_type": "stream",
          "name": "stdout",
          "text": [
            "12\n"
          ]
        }
      ]
    },
    {
      "cell_type": "markdown",
      "source": [
        "Parameter:A parameter is the variable defined within the parentheses during function definition.\n",
        "simply they are written when we declare a function.\n",
        "\n",
        "*Example:*Here a,b are parameters."
      ],
      "metadata": {
        "id": "LCIGvp6LWzjl"
      }
    },
    {
      "cell_type": "code",
      "source": [
        "def sum(a,b):\n",
        "  print(a+b)\n",
        "sum(10,2)"
      ],
      "metadata": {
        "colab": {
          "base_uri": "https://localhost:8080/"
        },
        "id": "plj0LsaoXPZX",
        "outputId": "2c68461f-0e22-4527-ed35-dceebb93ebff"
      },
      "execution_count": 99,
      "outputs": [
        {
          "output_type": "stream",
          "name": "stdout",
          "text": [
            "12\n"
          ]
        }
      ]
    },
    {
      "cell_type": "markdown",
      "source": [
        "**3. What are the different ways to define and call a function in Python?**\n",
        "\n",
        "A function is a block of code that performs a specific task.In Python, defining and calling functions is easy and can greatly improve the readability and reusability of your code.\n",
        "\n",
        "Define a Function:To define a function , we use the def keyword followed by the name of the function and parentheses. the code block for the function is then intended after the colon.\n",
        "\n",
        "we define a function called greet that takes one argument called name.\n",
        "\n",
        "Example:"
      ],
      "metadata": {
        "id": "1MaBLMkOWzg5"
      }
    },
    {
      "cell_type": "code",
      "source": [
        "def greet(name):\n",
        "    print(\"Hello, \" + name + \"!\")"
      ],
      "metadata": {
        "id": "MrjqPYiiYi7b"
      },
      "execution_count": 100,
      "outputs": []
    },
    {
      "cell_type": "markdown",
      "source": [
        "call a function:To call a function in Python,simply type the name of the function followed by parentheses().If the function takes any arguments,they are included within the parentheses.\n",
        "\n",
        "Example:we call the greet function with the argument \"John\""
      ],
      "metadata": {
        "id": "-icuUAzPYnyC"
      }
    },
    {
      "cell_type": "code",
      "source": [
        "def greet(name):\n",
        "    print(\"Hello, \" + name + \"!\")\n",
        "greet(\"John\")"
      ],
      "metadata": {
        "colab": {
          "base_uri": "https://localhost:8080/"
        },
        "id": "vLFfu5BjYgEo",
        "outputId": "7e6b5010-1605-4534-c3aa-e4539b208d21"
      },
      "execution_count": 101,
      "outputs": [
        {
          "output_type": "stream",
          "name": "stdout",
          "text": [
            "Hello, John!\n"
          ]
        }
      ]
    },
    {
      "cell_type": "markdown",
      "source": [
        "**4. What is the purpose of the `return` statement in a Python function?**\n",
        "\n",
        "A return statement is used to end the excution of the function call and \"returns\".The result(value of the expression following the return keyword) to the caller.The statements after the return statements are not executed.If the return statement is without any expession,then the special value None is returned.A return statement is overall used to invoke a function, so that the passed statements can be executed.\n",
        "\n",
        "Return statement cannot be outside the function.\n",
        "\n",
        "syntax:def fun():\n",
        "       statements\n",
        "       .\n",
        "       .\n",
        "       return[expression]\n",
        "\n",
        "Example:\n"
      ],
      "metadata": {
        "id": "yF4jAwvfZTh4"
      }
    },
    {
      "cell_type": "code",
      "source": [
        "def add_numbers(a, b):\n",
        "    return a + b\n",
        "result = add_numbers(3, 5)\n",
        "print(f'output of adding(3,5)function is{result}')"
      ],
      "metadata": {
        "colab": {
          "base_uri": "https://localhost:8080/"
        },
        "id": "zAy69qiOapzD",
        "outputId": "74ed269d-843f-4433-9a01-9d5cb753c097"
      },
      "execution_count": 102,
      "outputs": [
        {
          "output_type": "stream",
          "name": "stdout",
          "text": [
            "output of adding(3,5)function is8\n"
          ]
        }
      ]
    },
    {
      "cell_type": "markdown",
      "source": [
        "**5. What are iterators in Python and how do they differ from iterables?**\n",
        "\n",
        "Iterator is an object representing a stream of data & work of it is to return one by one.\n",
        "iter(s) is the representation of iterator object.\n",
        "\n",
        "First converting the iterable string to iterator object and then access using next method.\n",
        "\n",
        "Iterable is an object, that can iterate over.\n",
        "\n",
        "It generates an Iterator when passed into iter() method.A list is iterable.\n",
        "\n",
        "Every iterator is also an iterable,but not every iterable is an iterator in Python.\n",
        "\n",
        "Example:\n",
        "iter-method returns the object itself."
      ],
      "metadata": {
        "id": "dAmS6vemcbPx"
      }
    },
    {
      "cell_type": "code",
      "source": [
        "s=\"Pwskills\"\n",
        "for i in s:\n",
        "  print(i)"
      ],
      "metadata": {
        "colab": {
          "base_uri": "https://localhost:8080/"
        },
        "id": "RbvYvqIffhbK",
        "outputId": "a60974f9-0463-4697-d6fa-6dcb3295cf2f"
      },
      "execution_count": 112,
      "outputs": [
        {
          "output_type": "stream",
          "name": "stdout",
          "text": [
            "P\n",
            "w\n",
            "s\n",
            "k\n",
            "i\n",
            "l\n",
            "l\n",
            "s\n"
          ]
        }
      ]
    },
    {
      "cell_type": "markdown",
      "source": [
        "**6. Explain the concept of generators in Python and how they are defined.**\n",
        "\n",
        "Generators in Python:It is a function that returns an interator using the yield keyword.\n",
        "\n",
        "Generator function in Python:A generator function in Python is defined like a normal function, but whenever it needs to generate a value , it does so with the yield key rather than return.If the body of the def contains yield,the function automatically becomes a Python generator function.\n",
        "\n",
        "To create a generator function simply use the def keyword and yield keyword.\n",
        "\n",
        "#syntax:\n",
        "def function_name():\n",
        "yield statement\n",
        "\n",
        "Example:\n"
      ],
      "metadata": {
        "id": "BLrX3c68cbNI"
      }
    },
    {
      "cell_type": "code",
      "source": [
        "def generator():\n",
        "  yield 1\n",
        "  yield 2\n",
        "  yield 3"
      ],
      "metadata": {
        "id": "bxl-NoGShKH4"
      },
      "execution_count": 114,
      "outputs": []
    },
    {
      "cell_type": "code",
      "source": [
        "x=generator()\n",
        "print(next(x))\n",
        "print(next(x))\n",
        "print(next(x))"
      ],
      "metadata": {
        "colab": {
          "base_uri": "https://localhost:8080/"
        },
        "id": "8GYC1nDrhc9v",
        "outputId": "6e28cb48-a305-40a8-992d-92ee5cb81f18"
      },
      "execution_count": 117,
      "outputs": [
        {
          "output_type": "stream",
          "name": "stdout",
          "text": [
            "1\n",
            "2\n",
            "3\n"
          ]
        }
      ]
    },
    {
      "cell_type": "markdown",
      "source": [
        "**7. What are the advantages of using generators over regular functions?**\n",
        "\n",
        "Memory efficiency:Gnerator generate values on the fly, reducing memory usage compared to storing the entire sequence in memory.\n",
        "\n",
        "Readabilirty:Generators can make your code easier to read and understand.By breaking up the iteration process into smaller chunks,you can write code that is more concise and easier to follow.\n",
        "\n",
        "speed:Generators can also be faster than regular loops especially when working with large data sets.This is because they avoid the overhead of creating a list or other data structures to store the results.Lets demonstrate the memory efficiency and readability below.\n",
        "\n",
        "Example:"
      ],
      "metadata": {
        "id": "pHdGkYlfh0zs"
      }
    },
    {
      "cell_type": "code",
      "source": [
        "def numbers():\n",
        "  for i in range(1,10000000):\n",
        "    yield i"
      ],
      "metadata": {
        "id": "bS-WP2RkjRjY"
      },
      "execution_count": 118,
      "outputs": []
    },
    {
      "cell_type": "code",
      "source": [
        "gen=numbers()\n",
        "print(next(gen))\n"
      ],
      "metadata": {
        "colab": {
          "base_uri": "https://localhost:8080/"
        },
        "id": "jjJjDGLrjXVq",
        "outputId": "090827ff-9883-41bf-d12e-2e273a6a1c07"
      },
      "execution_count": 129,
      "outputs": [
        {
          "output_type": "stream",
          "name": "stdout",
          "text": [
            "1\n"
          ]
        }
      ]
    },
    {
      "cell_type": "markdown",
      "source": [
        "**8. What is a lambda function in Python and when is it typically used?**\n",
        "\n",
        "Lambda functions:These are anonymous functions means that the function is without a name.As we already know the def keyword is used to define a normal function in Python,likewise the lambdakeyword is used to defdine an anonymous functions.\n",
        "\n",
        "#syntax:lambda arguments:expression\n",
        "\n",
        "This function can have any number of arguments but only one expression , which is evaluated and returned.\n",
        "\n",
        "-->Using the Lambda function can sometime reduce the readability of code.\n",
        "\n",
        "-->Good for performing short operations/data manipulations supports single line sometimes statements that return some value.\n",
        "\n",
        "Example\n"
      ],
      "metadata": {
        "id": "vurqxvW3kPvm"
      }
    },
    {
      "cell_type": "code",
      "source": [
        "str1='Pwskills'\n",
        "upper=lambda str1:str1.upper()\n",
        "print(upper(str1))"
      ],
      "metadata": {
        "colab": {
          "base_uri": "https://localhost:8080/"
        },
        "id": "JJXkSZsmlqZ3",
        "outputId": "bcda2ec8-3c93-4bb6-e331-1a984ac4f87a"
      },
      "execution_count": 130,
      "outputs": [
        {
          "output_type": "stream",
          "name": "stdout",
          "text": [
            "PWSKILLS\n"
          ]
        }
      ]
    },
    {
      "cell_type": "markdown",
      "source": [
        "**9. Explain the purpose and usage of the `map()` function in Python.**\n",
        "\n",
        "Map function:It is used to apply a given function to every item of an iterable and returns a map object.\n",
        "\n",
        "This is useful for simplifying the code and making irt more readable when applying an operation to all elements.\n",
        "\n",
        "Syntax:map(function,iterable)\n",
        "\n",
        "Python map() is a built-in function that allows you to process and transform all the items in an iterable without using an explicit for loop, a technique commonly known as mapping.\n",
        "\n",
        "map() is useful when you need to apply A TRANSFORMATION FUNCTION  to each item in a iterable and transform them into a new iterable.\n",
        "\n",
        "Example:"
      ],
      "metadata": {
        "id": "f1UQY7q_l1od"
      }
    },
    {
      "cell_type": "code",
      "source": [
        "s=['1','2','3','4']\n",
        "res=map(int,s)\n",
        "print(list(res))"
      ],
      "metadata": {
        "colab": {
          "base_uri": "https://localhost:8080/"
        },
        "id": "kuBMsbFenCzR",
        "outputId": "b9a6745f-ee37-4cd1-863b-3e981daeb436"
      },
      "execution_count": 131,
      "outputs": [
        {
          "output_type": "stream",
          "name": "stdout",
          "text": [
            "[1, 2, 3, 4]\n"
          ]
        }
      ]
    },
    {
      "cell_type": "markdown",
      "source": [
        "**10. What is the difference between `map()`, `reduce()`, and `filter()` functions in Python?**\n",
        "\n",
        "Map, Filter and Reduce are three powerful functions in Python that allows to manipulate and transform data in efficient and concise ways.\n",
        "\n",
        "Map():The map function takes a function and applies it to each element in a iterable, such as list or tuple.\n",
        "\n",
        "Syntax:map(function,iterable)\n",
        "\n",
        "Example:"
      ],
      "metadata": {
        "id": "RM-rlH6FnSsm"
      }
    },
    {
      "cell_type": "code",
      "source": [
        "numbers=[1,2,3,4,5]\n",
        "doubled=map(lambda x:x*2,numbers)\n",
        "print(list(doubled))"
      ],
      "metadata": {
        "colab": {
          "base_uri": "https://localhost:8080/"
        },
        "id": "ovatV1zEoArD",
        "outputId": "13dec602-efc8-4e23-f493-448f7ce186aa"
      },
      "execution_count": 132,
      "outputs": [
        {
          "output_type": "stream",
          "name": "stdout",
          "text": [
            "[2, 4, 6, 8, 10]\n"
          ]
        }
      ]
    },
    {
      "cell_type": "markdown",
      "source": [
        "Filter():It takes a function and on iterable and returns a new iterable containing only the elements for which the function returns True.\n",
        "\n",
        "Syntax:filter(function,iterable)\n",
        "\n",
        "Example:"
      ],
      "metadata": {
        "id": "8lQoslPyoLu0"
      }
    },
    {
      "cell_type": "code",
      "source": [
        "numbers=[1,2,3,4,5]\n",
        "even=filter(lambda x:x%2==0,numbers)\n",
        "print(list(even))"
      ],
      "metadata": {
        "colab": {
          "base_uri": "https://localhost:8080/"
        },
        "id": "5jFiX5oGolB1",
        "outputId": "109dc44c-07b7-4936-bbdc-d4e80503fe3e"
      },
      "execution_count": 135,
      "outputs": [
        {
          "output_type": "stream",
          "name": "stdout",
          "text": [
            "[2, 4]\n"
          ]
        }
      ]
    },
    {
      "cell_type": "markdown",
      "source": [
        "Reduce():It takes a function and an iterable and applies the function to the first two elements,then to the result and the next element and so on,until all elements have been processed.\n",
        "\n",
        "-->The result is a single value.\n",
        "\n",
        "Syntax:reduce(function,iterable)\n",
        "\n",
        "Examples:"
      ],
      "metadata": {
        "id": "SBauxM0FpCKD"
      }
    },
    {
      "cell_type": "code",
      "source": [
        "numbers=[1,2,3,4,5]\n",
        "total=reduce(lambda x,y:x+y,numbers)\n",
        "print(total)"
      ],
      "metadata": {
        "colab": {
          "base_uri": "https://localhost:8080/"
        },
        "id": "U3HYNjJ0pfI_",
        "outputId": "720c5702-4242-4d60-d0fa-a5c75f110b57"
      },
      "execution_count": 137,
      "outputs": [
        {
          "output_type": "stream",
          "name": "stdout",
          "text": [
            "15\n"
          ]
        }
      ]
    },
    {
      "cell_type": "markdown",
      "source": [
        "11. Using pen & Paper write the internal mechanism for sum operation using reduce function on this given list:[47,11,42,13]![11 question.pdf](data:application/pdf;base64,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)"
      ],
      "metadata": {
        "id": "5hEOVhTy2de8"
      }
    },
    {
      "cell_type": "markdown",
      "source": [
        "      **Pratical assignment**\n",
        "\n",
        "**1.Write a Python function that takes a list of numbers as input and returns the sum of all even numbers in the list      "
      ],
      "metadata": {
        "id": "LQyPtdNZ1Gwl"
      }
    },
    {
      "cell_type": "code",
      "source": [
        "list=[1,2,3,4,5,6,7,8,9,10]\n",
        "even_sum=0\n",
        "for i in list:\n",
        "  if i%2==0:\n",
        "    even_sum+=i\n",
        "print(even_sum)"
      ],
      "metadata": {
        "colab": {
          "base_uri": "https://localhost:8080/"
        },
        "id": "MDpIrgha1rPy",
        "outputId": "823e53f7-8ad4-4171-c401-fb0453e7a4df"
      },
      "execution_count": 164,
      "outputs": [
        {
          "output_type": "stream",
          "name": "stdout",
          "text": [
            "30\n"
          ]
        }
      ]
    },
    {
      "cell_type": "code",
      "source": [
        "print(type(even_sum))"
      ],
      "metadata": {
        "colab": {
          "base_uri": "https://localhost:8080/"
        },
        "id": "_KMJKCmmussP",
        "outputId": "91c33762-a753-477a-b908-3a48498909ad"
      },
      "execution_count": 6,
      "outputs": [
        {
          "output_type": "stream",
          "name": "stdout",
          "text": [
            "<class 'function'>\n"
          ]
        }
      ]
    },
    {
      "cell_type": "code",
      "source": [
        "type([1,2,3,4,5,6])"
      ],
      "metadata": {
        "colab": {
          "base_uri": "https://localhost:8080/"
        },
        "id": "ynJ2z2sMv68C",
        "outputId": "afea098c-ecff-4cc7-f5b9-af3dadae6177"
      },
      "execution_count": 11,
      "outputs": [
        {
          "output_type": "execute_result",
          "data": {
            "text/plain": [
              "list"
            ]
          },
          "metadata": {},
          "execution_count": 11
        }
      ]
    },
    {
      "cell_type": "markdown",
      "source": [
        "**2. Create a Python function that accepts a string and returns the reverse of that string.**\n"
      ],
      "metadata": {
        "id": "VKqromgFxTya"
      }
    },
    {
      "cell_type": "code",
      "source": [
        "rev=reversed(\"Hello world\")\n",
        "rev1=\"\".join(rev)\n",
        "print(rev1)"
      ],
      "metadata": {
        "colab": {
          "base_uri": "https://localhost:8080/"
        },
        "id": "uPamG-XExkJF",
        "outputId": "76bd4217-a6fa-4945-a61e-00671693a4da"
      },
      "execution_count": 12,
      "outputs": [
        {
          "output_type": "stream",
          "name": "stdout",
          "text": [
            "dlrow olleH\n"
          ]
        }
      ]
    },
    {
      "cell_type": "code",
      "source": [
        "type(\"Hello world\")"
      ],
      "metadata": {
        "colab": {
          "base_uri": "https://localhost:8080/"
        },
        "id": "zljJiBW-0Q3F",
        "outputId": "aeb26e86-3d76-4d47-ce73-a2c41fe1e7f9"
      },
      "execution_count": 13,
      "outputs": [
        {
          "output_type": "execute_result",
          "data": {
            "text/plain": [
              "str"
            ]
          },
          "metadata": {},
          "execution_count": 13
        }
      ]
    },
    {
      "cell_type": "markdown",
      "source": [
        "**3. Implement a Python function that takes a list of integers and returns a new list containing the squares of\n",
        "each number.**\n",
        "\n"
      ],
      "metadata": {
        "id": "R9RJnvR81V30"
      }
    },
    {
      "cell_type": "code",
      "source": [
        "nums=[1,2,3,4,5]\n",
        "squares=[]\n",
        "for n in nums:\n",
        "    squares.append(n**2)\n",
        "print(squares)"
      ],
      "metadata": {
        "colab": {
          "base_uri": "https://localhost:8080/"
        },
        "id": "8w40J9NN4HoU",
        "outputId": "5c54c83b-2279-451b-a683-6afb7f4ebec7"
      },
      "execution_count": 22,
      "outputs": [
        {
          "output_type": "stream",
          "name": "stdout",
          "text": [
            "[1, 4, 9, 16, 25]\n"
          ]
        }
      ]
    },
    {
      "cell_type": "code",
      "source": [
        "type([1,2,3,4,5])"
      ],
      "metadata": {
        "colab": {
          "base_uri": "https://localhost:8080/"
        },
        "id": "T1QNvsIw5YQg",
        "outputId": "58fc2547-fe36-46ad-be84-676cae2d51b1"
      },
      "execution_count": 24,
      "outputs": [
        {
          "output_type": "execute_result",
          "data": {
            "text/plain": [
              "list"
            ]
          },
          "metadata": {},
          "execution_count": 24
        }
      ]
    },
    {
      "cell_type": "markdown",
      "source": [
        "**4. Write a Python function that checks if a given number is prime or not from 1 to 200.**\n",
        "\n"
      ],
      "metadata": {
        "id": "jbF-vRno5lSk"
      }
    },
    {
      "cell_type": "code",
      "source": [
        "lower=1\n",
        "upper=200\n",
        "for num in range(lower,upper+1):\n",
        "    if num>1:\n",
        "        for i in range(2,num):\n",
        "            if (num%i)==0:\n",
        "                break\n",
        "        else:\n",
        "            print(num)"
      ],
      "metadata": {
        "colab": {
          "base_uri": "https://localhost:8080/"
        },
        "id": "GXr-H0qs7cRt",
        "outputId": "5d974470-5510-4dd1-fd58-a7e66b6f7493"
      },
      "execution_count": 25,
      "outputs": [
        {
          "output_type": "stream",
          "name": "stdout",
          "text": [
            "2\n",
            "3\n",
            "5\n",
            "7\n",
            "11\n",
            "13\n",
            "17\n",
            "19\n",
            "23\n",
            "29\n",
            "31\n",
            "37\n",
            "41\n",
            "43\n",
            "47\n",
            "53\n",
            "59\n",
            "61\n",
            "67\n",
            "71\n",
            "73\n",
            "79\n",
            "83\n",
            "89\n",
            "97\n",
            "101\n",
            "103\n",
            "107\n",
            "109\n",
            "113\n",
            "127\n",
            "131\n",
            "137\n",
            "139\n",
            "149\n",
            "151\n",
            "157\n",
            "163\n",
            "167\n",
            "173\n",
            "179\n",
            "181\n",
            "191\n",
            "193\n",
            "197\n",
            "199\n"
          ]
        }
      ]
    },
    {
      "cell_type": "markdown",
      "source": [
        "**5. Create an iterator class in Python that generates the Fibonacci sequence up to a specified number of\n",
        "term**\n",
        "\n",
        "Fibonacci sequencesum of lat two numbers\n",
        "\n"
      ],
      "metadata": {
        "id": "9_Z_JENt70_L"
      }
    },
    {
      "cell_type": "code",
      "source": [
        "def fib(n):\n",
        "    a,b=0,1\n",
        "    for i in range(n):\n",
        "        yield a\n",
        "        a,b=b,a+b"
      ],
      "metadata": {
        "id": "aHLEbsAj-Dvb"
      },
      "execution_count": 35,
      "outputs": []
    },
    {
      "cell_type": "code",
      "source": [
        "f=fib(100)"
      ],
      "metadata": {
        "id": "TBBnoiVY-pi_"
      },
      "execution_count": 36,
      "outputs": []
    },
    {
      "cell_type": "code",
      "source": [
        "f"
      ],
      "metadata": {
        "colab": {
          "base_uri": "https://localhost:8080/"
        },
        "id": "TVhqPG1v-tf8",
        "outputId": "aa7eb71a-1f81-4c2c-a09c-2c653de84974"
      },
      "execution_count": 38,
      "outputs": [
        {
          "output_type": "execute_result",
          "data": {
            "text/plain": [
              "<generator object fib at 0x7bb3216c5700>"
            ]
          },
          "metadata": {},
          "execution_count": 38
        }
      ]
    },
    {
      "cell_type": "code",
      "source": [
        "next(f)"
      ],
      "metadata": {
        "colab": {
          "base_uri": "https://localhost:8080/"
        },
        "id": "AAxWh2vZ-td7",
        "outputId": "22b79f1d-0acc-4ec9-9955-531e3a92cff6"
      },
      "execution_count": 39,
      "outputs": [
        {
          "output_type": "execute_result",
          "data": {
            "text/plain": [
              "1"
            ]
          },
          "metadata": {},
          "execution_count": 39
        }
      ]
    },
    {
      "cell_type": "markdown",
      "source": [
        "**6. Write a generator function in Python that yields the powers of 2 up to a given exponent.**\n",
        "\n"
      ],
      "metadata": {
        "id": "3m9hJSqoCsTA"
      }
    },
    {
      "cell_type": "code",
      "source": [
        "def square_number(n):\n",
        "    result = []\n",
        "    for i in range(n):\n",
        "        result.append(i ** 2)\n",
        "    return result\n",
        "square_number(10)"
      ],
      "metadata": {
        "colab": {
          "base_uri": "https://localhost:8080/"
        },
        "id": "xHQk96dDDDLP",
        "outputId": "15cd8e49-e888-4d9e-c60c-1a425a267d71"
      },
      "execution_count": 56,
      "outputs": [
        {
          "output_type": "execute_result",
          "data": {
            "text/plain": [
              "[0, 1, 4, 9, 16, 25, 36, 49, 64, 81]"
            ]
          },
          "metadata": {},
          "execution_count": 56
        }
      ]
    },
    {
      "cell_type": "markdown",
      "source": [
        "**7. Implement a generator function that reads a file line by line and yields each line as a string.**\n",
        "\n"
      ],
      "metadata": {
        "id": "9CFr2EQ8F3So"
      }
    },
    {
      "cell_type": "code",
      "source": [
        "def read_file(n):\n",
        "    for i in n:\n",
        "        yield i"
      ],
      "metadata": {
        "id": "x2k3virSGSHW"
      },
      "execution_count": 103,
      "outputs": []
    },
    {
      "cell_type": "code",
      "source": [
        "n=\"Pwskills\"\n",
        "read_file(n)"
      ],
      "metadata": {
        "colab": {
          "base_uri": "https://localhost:8080/"
        },
        "id": "D7D77IruINk1",
        "outputId": "754bf3da-afc1-4c6c-ff54-0387e695090f"
      },
      "execution_count": 106,
      "outputs": [
        {
          "output_type": "execute_result",
          "data": {
            "text/plain": [
              "<generator object read_file at 0x7bb321705380>"
            ]
          },
          "metadata": {},
          "execution_count": 106
        }
      ]
    },
    {
      "cell_type": "code",
      "source": [
        "a=iter(read_file(n))\n",
        "a"
      ],
      "metadata": {
        "colab": {
          "base_uri": "https://localhost:8080/"
        },
        "id": "Kb3f5-OcIZva",
        "outputId": "e47e9b7b-aeb0-40f5-d5e1-39aae712cb1a"
      },
      "execution_count": 108,
      "outputs": [
        {
          "output_type": "execute_result",
          "data": {
            "text/plain": [
              "<generator object read_file at 0x7bb321705310>"
            ]
          },
          "metadata": {},
          "execution_count": 108
        }
      ]
    },
    {
      "cell_type": "code",
      "source": [
        "next(a)"
      ],
      "metadata": {
        "colab": {
          "base_uri": "https://localhost:8080/",
          "height": 36
        },
        "id": "ny5BFVDhemni",
        "outputId": "fbacc0fc-1c74-4300-e483-c843ed11eb38"
      },
      "execution_count": 109,
      "outputs": [
        {
          "output_type": "execute_result",
          "data": {
            "text/plain": [
              "'P'"
            ],
            "application/vnd.google.colaboratory.intrinsic+json": {
              "type": "string"
            }
          },
          "metadata": {},
          "execution_count": 109
        }
      ]
    },
    {
      "cell_type": "code",
      "source": [
        "next(a)"
      ],
      "metadata": {
        "colab": {
          "base_uri": "https://localhost:8080/",
          "height": 36
        },
        "id": "4FY-T9UWemlZ",
        "outputId": "56bf64cb-c293-4129-f33a-3906d12bbdd5"
      },
      "execution_count": 110,
      "outputs": [
        {
          "output_type": "execute_result",
          "data": {
            "text/plain": [
              "'w'"
            ],
            "application/vnd.google.colaboratory.intrinsic+json": {
              "type": "string"
            }
          },
          "metadata": {},
          "execution_count": 110
        }
      ]
    },
    {
      "cell_type": "code",
      "source": [
        "next(a)"
      ],
      "metadata": {
        "colab": {
          "base_uri": "https://localhost:8080/",
          "height": 36
        },
        "id": "ZMRqTl4deuJb",
        "outputId": "ec07ca7c-f93e-443b-e24d-a8a5f53956ff"
      },
      "execution_count": 111,
      "outputs": [
        {
          "output_type": "execute_result",
          "data": {
            "text/plain": [
              "'s'"
            ],
            "application/vnd.google.colaboratory.intrinsic+json": {
              "type": "string"
            }
          },
          "metadata": {},
          "execution_count": 111
        }
      ]
    },
    {
      "cell_type": "markdown",
      "source": [
        "iter-method returns the object itself.\n",
        "\n",
        "next-method returns the next item from a list."
      ],
      "metadata": {
        "id": "ZPfu51LXe1bp"
      }
    },
    {
      "cell_type": "markdown",
      "source": [
        "**8. Use a lambda function in Python to sort a list of tuples based on the second element of each tuple**"
      ],
      "metadata": {
        "id": "i_0J_FOwMtHq"
      }
    },
    {
      "cell_type": "code",
      "source": [
        "planets = [(\"Mercury\", 2440, 5.43, 0.395), (\"Venus\", 6052, 5.24, 0.723), (\"Earth\", 6378, 5)]\n",
        "print(planets)"
      ],
      "metadata": {
        "colab": {
          "base_uri": "https://localhost:8080/"
        },
        "id": "UpsEKthEOzs4",
        "outputId": "333d633f-b72d-44ab-c6ff-cd6e0c63c0ec"
      },
      "execution_count": 86,
      "outputs": [
        {
          "output_type": "stream",
          "name": "stdout",
          "text": [
            "[('Mercury', 2440, 5.43, 0.395), ('Venus', 6052, 5.24, 0.723), ('Earth', 6378, 5)]\n"
          ]
        }
      ]
    },
    {
      "cell_type": "code",
      "source": [
        "newlist = sorted(planets, key=lambda x: x[1],reverse=True)\n",
        "print(\"Reverse sorted list:\",newlist)\n",
        "print(\"original lis:\",planets)"
      ],
      "metadata": {
        "colab": {
          "base_uri": "https://localhost:8080/"
        },
        "id": "Rs0OaQhbPNkj",
        "outputId": "95a5a992-6ad9-4f7f-d88b-3ccedbd5ca9a"
      },
      "execution_count": 87,
      "outputs": [
        {
          "output_type": "stream",
          "name": "stdout",
          "text": [
            "Reverse sorted list: [('Earth', 6378, 5), ('Venus', 6052, 5.24, 0.723), ('Mercury', 2440, 5.43, 0.395)]\n",
            "original lis: [('Mercury', 2440, 5.43, 0.395), ('Venus', 6052, 5.24, 0.723), ('Earth', 6378, 5)]\n"
          ]
        }
      ]
    },
    {
      "cell_type": "markdown",
      "source": [
        "**9. Write a Python program that uses `map()` to convert a list of temperatures from Celsius to Fahrenheit.**\n",
        "\n"
      ],
      "metadata": {
        "id": "964o-Z3KPyfQ"
      }
    },
    {
      "cell_type": "code",
      "source": [
        "celsius = [39.2, 36.5, 37.3, 37.8]\n",
        "fahrenheit = map(lambda x: (float(9)/5)*x + 32, celsius)\n",
        "print (list(fahrenheit))"
      ],
      "metadata": {
        "colab": {
          "base_uri": "https://localhost:8080/"
        },
        "id": "X6PrPQr5qWvU",
        "outputId": "559be436-fa07-456e-c69b-7cd0f25c9b32"
      },
      "execution_count": 138,
      "outputs": [
        {
          "output_type": "stream",
          "name": "stdout",
          "text": [
            "[102.56, 97.7, 99.14, 100.03999999999999]\n"
          ]
        }
      ]
    },
    {
      "cell_type": "markdown",
      "source": [
        "**0. Create a Python program that uses `filter()` to remove all the vowels from a given string.**"
      ],
      "metadata": {
        "id": "KWLi4DVpqikf"
      }
    },
    {
      "cell_type": "code",
      "source": [
        "string = \"Python Program\"\n",
        "vowels = [\"a\", \"e\", \"i\", \"o\", \"u\"]\n",
        "filteredVowels = filter(lambda x: True if x in vowels else False, string)\n",
        "print(\"The filtered vowels are:\")\n",
        "for vowel in filteredVowels:\n",
        "    print(vowel)"
      ],
      "metadata": {
        "colab": {
          "base_uri": "https://localhost:8080/"
        },
        "id": "4J7P1vd1q6Zu",
        "outputId": "84f7c409-ca02-4509-9ee1-3556da49c3aa"
      },
      "execution_count": 139,
      "outputs": [
        {
          "output_type": "stream",
          "name": "stdout",
          "text": [
            "The filtered vowels are:\n",
            "o\n",
            "o\n",
            "a\n"
          ]
        }
      ]
    },
    {
      "cell_type": "code",
      "source": [
        "vowels =  [\"a\", \"e\", \"i\", \"o\", \"u\"]\n",
        "result = [letter for letter in string if letter.lower() not in vowels]\n",
        "result = ''.join(result)\n",
        "print(result)\n"
      ],
      "metadata": {
        "colab": {
          "base_uri": "https://localhost:8080/"
        },
        "id": "a3K6uvJWrYmi",
        "outputId": "3c297924-abe2-423b-ea1e-66ac9463f86b"
      },
      "execution_count": 143,
      "outputs": [
        {
          "output_type": "stream",
          "name": "stdout",
          "text": [
            "Pythn Prgrm\n"
          ]
        }
      ]
    },
    {
      "cell_type": "markdown",
      "source": [
        "**11) Imagine an accounting routine used in a book shop. It works on a list with sublists, which look like this\n",
        "\n",
        "Write a Python program, which returns a list with 2-tuples. Each tuple consists of the order number and the\n",
        "product of the price per item and the quantity. The product should be increased by 10,- € if the value of the\n",
        "order is smaller than 100,00 €.\n",
        "\n",
        "Write a Python program using lambda and map**\n",
        "\n"
      ],
      "metadata": {
        "id": "-U-eSvJhszt0"
      }
    },
    {
      "cell_type": "code",
      "source": [
        "list =[(34587, \"Learning Python\",\"Mark Lutz\", 4, 40.95),(98762, \"Programming Python\",\"Mark Lutz\", 5, 56.80),(77226, \"Head First Python\",\"Paul Barry\", 3, 32.95),(88112,\"Einführung in Python3\",\"Bernd Klein\", 3, 24.99)]\n",
        "result = list(map(lambda x: (x[0], x[1] + 10) if x[1] * x[3] <= 100 else (x[0], x[1] * x[3]), list))\n",
        "print(result)"
      ],
      "metadata": {
        "colab": {
          "base_uri": "https://localhost:8080/",
          "height": 193
        },
        "id": "Vm7vexkQtlXK",
        "outputId": "b92b5fbd-c5aa-4395-f05a-1b69350f4a1d"
      },
      "execution_count": 163,
      "outputs": [
        {
          "output_type": "error",
          "ename": "TypeError",
          "evalue": "'list' object is not callable",
          "traceback": [
            "\u001b[0;31m---------------------------------------------------------------------------\u001b[0m",
            "\u001b[0;31mTypeError\u001b[0m                                 Traceback (most recent call last)",
            "\u001b[0;32m<ipython-input-163-d83945ba159e>\u001b[0m in \u001b[0;36m<cell line: 2>\u001b[0;34m()\u001b[0m\n\u001b[1;32m      1\u001b[0m \u001b[0mlist\u001b[0m \u001b[0;34m=\u001b[0m\u001b[0;34m[\u001b[0m\u001b[0;34m(\u001b[0m\u001b[0;36m34587\u001b[0m\u001b[0;34m,\u001b[0m \u001b[0;34m\"Learning Python\"\u001b[0m\u001b[0;34m,\u001b[0m\u001b[0;34m\"Mark Lutz\"\u001b[0m\u001b[0;34m,\u001b[0m \u001b[0;36m4\u001b[0m\u001b[0;34m,\u001b[0m \u001b[0;36m40.95\u001b[0m\u001b[0;34m)\u001b[0m\u001b[0;34m,\u001b[0m\u001b[0;34m(\u001b[0m\u001b[0;36m98762\u001b[0m\u001b[0;34m,\u001b[0m \u001b[0;34m\"Programming Python\"\u001b[0m\u001b[0;34m,\u001b[0m\u001b[0;34m\"Mark Lutz\"\u001b[0m\u001b[0;34m,\u001b[0m \u001b[0;36m5\u001b[0m\u001b[0;34m,\u001b[0m \u001b[0;36m56.80\u001b[0m\u001b[0;34m)\u001b[0m\u001b[0;34m,\u001b[0m\u001b[0;34m(\u001b[0m\u001b[0;36m77226\u001b[0m\u001b[0;34m,\u001b[0m \u001b[0;34m\"Head First Python\"\u001b[0m\u001b[0;34m,\u001b[0m\u001b[0;34m\"Paul Barry\"\u001b[0m\u001b[0;34m,\u001b[0m \u001b[0;36m3\u001b[0m\u001b[0;34m,\u001b[0m \u001b[0;36m32.95\u001b[0m\u001b[0;34m)\u001b[0m\u001b[0;34m,\u001b[0m\u001b[0;34m(\u001b[0m\u001b[0;36m88112\u001b[0m\u001b[0;34m,\u001b[0m\u001b[0;34m\"Einführung in Python3\"\u001b[0m\u001b[0;34m,\u001b[0m\u001b[0;34m\"Bernd Klein\"\u001b[0m\u001b[0;34m,\u001b[0m \u001b[0;36m3\u001b[0m\u001b[0;34m,\u001b[0m \u001b[0;36m24.99\u001b[0m\u001b[0;34m)\u001b[0m\u001b[0;34m]\u001b[0m\u001b[0;34m\u001b[0m\u001b[0;34m\u001b[0m\u001b[0m\n\u001b[0;32m----> 2\u001b[0;31m \u001b[0mresult\u001b[0m \u001b[0;34m=\u001b[0m \u001b[0mlist\u001b[0m\u001b[0;34m(\u001b[0m\u001b[0mmap\u001b[0m\u001b[0;34m(\u001b[0m\u001b[0;32mlambda\u001b[0m \u001b[0mx\u001b[0m\u001b[0;34m:\u001b[0m \u001b[0;34m(\u001b[0m\u001b[0mx\u001b[0m\u001b[0;34m[\u001b[0m\u001b[0;36m0\u001b[0m\u001b[0;34m]\u001b[0m\u001b[0;34m,\u001b[0m \u001b[0mx\u001b[0m\u001b[0;34m[\u001b[0m\u001b[0;36m1\u001b[0m\u001b[0;34m]\u001b[0m \u001b[0;34m+\u001b[0m \u001b[0;36m10\u001b[0m\u001b[0;34m)\u001b[0m \u001b[0;32mif\u001b[0m \u001b[0mx\u001b[0m\u001b[0;34m[\u001b[0m\u001b[0;36m1\u001b[0m\u001b[0;34m]\u001b[0m \u001b[0;34m*\u001b[0m \u001b[0mx\u001b[0m\u001b[0;34m[\u001b[0m\u001b[0;36m3\u001b[0m\u001b[0;34m]\u001b[0m \u001b[0;34m<=\u001b[0m \u001b[0;36m100\u001b[0m \u001b[0;32melse\u001b[0m \u001b[0;34m(\u001b[0m\u001b[0mx\u001b[0m\u001b[0;34m[\u001b[0m\u001b[0;36m0\u001b[0m\u001b[0;34m]\u001b[0m\u001b[0;34m,\u001b[0m \u001b[0mx\u001b[0m\u001b[0;34m[\u001b[0m\u001b[0;36m1\u001b[0m\u001b[0;34m]\u001b[0m \u001b[0;34m*\u001b[0m \u001b[0mx\u001b[0m\u001b[0;34m[\u001b[0m\u001b[0;36m3\u001b[0m\u001b[0;34m]\u001b[0m\u001b[0;34m)\u001b[0m\u001b[0;34m,\u001b[0m \u001b[0mlist\u001b[0m\u001b[0;34m)\u001b[0m\u001b[0;34m)\u001b[0m\u001b[0;34m\u001b[0m\u001b[0;34m\u001b[0m\u001b[0m\n\u001b[0m\u001b[1;32m      3\u001b[0m \u001b[0mprint\u001b[0m\u001b[0;34m(\u001b[0m\u001b[0mresult\u001b[0m\u001b[0;34m)\u001b[0m\u001b[0;34m\u001b[0m\u001b[0;34m\u001b[0m\u001b[0m\n",
            "\u001b[0;31mTypeError\u001b[0m: 'list' object is not callable"
          ]
        }
      ]
    },
    {
      "cell_type": "markdown",
      "source": [],
      "metadata": {
        "id": "j_SNznCXPycv"
      }
    }
  ]
}