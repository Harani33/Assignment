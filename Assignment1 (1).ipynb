{
  "nbformat": 4,
  "nbformat_minor": 0,
  "metadata": {
    "colab": {
      "provenance": []
    },
    "kernelspec": {
      "name": "python3",
      "display_name": "Python 3"
    },
    "language_info": {
      "name": "python"
    }
  },
  "cells": [
    {
      "cell_type": "code",
      "execution_count": null,
      "metadata": {
        "id": "XCVhz9QR0CH8"
      },
      "outputs": [],
      "source": []
    },
    {
      "cell_type": "markdown",
      "source": [
        "Explain the key features of Python that make it a popular choice for programming.\n",
        "\n",
        "python is most accesible open-source coding language as it has a simple syntax to code.\n",
        "features of python:\n",
        "**portable language**:It can run on linux,mac os ,windows\n",
        "**standard library**  :large standard library that provides set of modules and functions.\n",
        "**high-level language**:it is a general purpose human-language.\n",
        "**Ease of learning**:Easy to understand & code.\n",
        "**Open-sourc**e:Lfree to download easily from official website.\n",
        "**Dynamic language**:Declaring rthe type of variable.\n"
      ],
      "metadata": {
        "id": "I0CI79JI0XHw"
      }
    },
    {
      "cell_type": "markdown",
      "source": [
        "Describe the role of predefined keywords in Python and provide examples of how they are used in a program\n",
        "\n",
        "pre-defined keywords:Keywords are pre-defined functions? variables in python and they are used to define the syntax of the code.\n",
        "some keywords in python are :True ,False,break.\n",
        "Some Pre-defined data types:\n",
        "Numeric data-type:It represents the data that has the numeric value.\n",
        "the value xcan be an integer,float,complex.\n",
        "example:\n"
      ],
      "metadata": {
        "id": "LhKFcTTp2Cdw"
      }
    },
    {
      "cell_type": "code",
      "source": [
        "a=5\n",
        "print(\"type of a\")\n",
        "print(type(a))"
      ],
      "metadata": {
        "colab": {
          "base_uri": "https://localhost:8080/"
        },
        "id": "FttVvNLv3DLO",
        "outputId": "ad1d0cc7-f8d4-48bd-803c-0481e4341af6"
      },
      "execution_count": 1,
      "outputs": [
        {
          "output_type": "stream",
          "name": "stdout",
          "text": [
            "type of a\n",
            "<class 'int'>\n"
          ]
        }
      ]
    },
    {
      "cell_type": "code",
      "source": [
        "b=5.0\n",
        "print(\"type of b\")\n",
        "print(type(b))"
      ],
      "metadata": {
        "colab": {
          "base_uri": "https://localhost:8080/"
        },
        "id": "psdgerJu3U8D",
        "outputId": "26739105-38c1-4e05-cfe2-886e626d3926"
      },
      "execution_count": 3,
      "outputs": [
        {
          "output_type": "stream",
          "name": "stdout",
          "text": [
            "type of b\n",
            "<class 'float'>\n"
          ]
        }
      ]
    },
    {
      "cell_type": "code",
      "source": [
        "c=2+4j\n",
        "print(\"type of c\")\n",
        "print(type(c))"
      ],
      "metadata": {
        "colab": {
          "base_uri": "https://localhost:8080/"
        },
        "id": "jzQ8wx1d3l6x",
        "outputId": "590511c2-831f-4e65-adc9-c090bd9b18e4"
      },
      "execution_count": 4,
      "outputs": [
        {
          "output_type": "stream",
          "name": "stdout",
          "text": [
            "type of c\n",
            "<class 'complex'>\n"
          ]
        }
      ]
    },
    {
      "cell_type": "markdown",
      "source": [
        "Character data type :\n",
        "to verify the type of any data in python use type() function"
      ],
      "metadata": {
        "id": "jDlkBo0C3SCw"
      }
    },
    {
      "cell_type": "code",
      "source": [
        "X=\"hello world\"\n",
        "print(type(X))"
      ],
      "metadata": {
        "colab": {
          "base_uri": "https://localhost:8080/"
        },
        "id": "3kBUS0Hh4H9e",
        "outputId": "28114456-68c3-466d-fbc2-0574504bf54a"
      },
      "execution_count": 5,
      "outputs": [
        {
          "output_type": "stream",
          "name": "stdout",
          "text": [
            "<class 'str'>\n"
          ]
        }
      ]
    },
    {
      "cell_type": "markdown",
      "source": [
        "3.*0 Compare and contrast mutable and imutable objects in Python with examples\n",
        "\n",
        "the objects in python are classifiesd as mutable and immutable objects\n",
        "\n",
        "Mutable objects :the objects that can be changed their size,state or value after they are created is kbnown as mutable objects.\n",
        "examnple :list\n",
        "\n",
        "Immutable :the objects that cannot be changed after they are created is known as Immutable objects .\n",
        "example:string."
      ],
      "metadata": {
        "id": "zI1gYOxB36nW"
      }
    },
    {
      "cell_type": "markdown",
      "source": [
        "4./0 Discuss the different types of operators in Python and provide examples of how they are used\n",
        "\n",
        "python operators are special symols\n",
        "types of operators\n",
        "1.Arthematic operators -addition,subtraction,multiplication,divison\n",
        "example:a+b,a-b....\n",
        "2.Comparison operators :eqal to,not equal to, greater than,less than, greater than or equal to, less than or equal to.\n",
        "3.logical operators:logical and,logiacal not,logical or\n",
        "4.Bit-wise operators:Bitwise and,Bitwise or,Bitwise Xor,Bitwise Not,Bitwise left shift,Bitwise right shift\n",
        "5.Assignment operators :Assignment and,add and Assignment,subtract and assignment,multiply and assignmenty,divide and assignmenrt\n",
        "6.Identify assignment:is and is not\n",
        "7.Membership assignment :In and not in."
      ],
      "metadata": {
        "id": "L1lnzpyt5JVc"
      }
    },
    {
      "cell_type": "markdown",
      "source": [
        "Explain the concept of type casting in Python with examples\n",
        "\n",
        "Type casting is the method to convert the Python variable datatype\n",
        "\n",
        "these are 2 types of type casting :Implict and Explict\n",
        "Implict:It converts the data type automatically\n",
        "like int to float\n",
        "Explict :It needs user involment to cionvert the variable data type into the required data type.\n"
      ],
      "metadata": {
        "id": "-H1NdqYC9Hjx"
      }
    },
    {
      "cell_type": "markdown",
      "source": [
        "6.How do conditional statements work in Python? Illustrate with examples\n",
        "\n",
        "Conditional statements are used to execute code based on the evaluation of one or more conditions\n",
        "Conditional statements in python are if,else,elif\n"
      ],
      "metadata": {
        "id": "laWuISFg-cav"
      }
    },
    {
      "cell_type": "code",
      "source": [
        "num=5\n",
        "if num>0:\n",
        "  print(\"positive number\")\n",
        "elif num==0:\n",
        "  print(\"zero\")\n",
        "else:\n",
        "  print(\"negative number\")"
      ],
      "metadata": {
        "colab": {
          "base_uri": "https://localhost:8080/"
        },
        "id": "jE7zl_BV_Pqv",
        "outputId": "7869bcd5-6f6a-4f32-be7a-3d849116fe47"
      },
      "execution_count": 6,
      "outputs": [
        {
          "output_type": "stream",
          "name": "stdout",
          "text": [
            "positive number\n"
          ]
        }
      ]
    },
    {
      "cell_type": "code",
      "source": [
        "num= -5\n",
        "if num>0:\n",
        "  print(\"positive number\")\n",
        "else:\n",
        "  print(\"negative number\")\n"
      ],
      "metadata": {
        "colab": {
          "base_uri": "https://localhost:8080/"
        },
        "id": "otTvvxif_Yvu",
        "outputId": "ca104a2a-ed48-48aa-e3a4-af7d04a92629"
      },
      "execution_count": 8,
      "outputs": [
        {
          "output_type": "stream",
          "name": "stdout",
          "text": [
            "negative number\n"
          ]
        }
      ]
    },
    {
      "cell_type": "code",
      "source": [
        "num=0\n",
        "if num>0:\n",
        "  print(\"positive number\")\n",
        "elif num==0:\n",
        "  print(\"zero\")\n",
        "else:\n",
        "  print(\"negative number\")"
      ],
      "metadata": {
        "colab": {
          "base_uri": "https://localhost:8080/"
        },
        "id": "Y05ujpAF_nWy",
        "outputId": "9e882a85-913a-45d7-d853-d39a526a626c"
      },
      "execution_count": 9,
      "outputs": [
        {
          "output_type": "stream",
          "name": "stdout",
          "text": [
            "zero\n"
          ]
        }
      ]
    },
    {
      "cell_type": "markdown",
      "source": [
        "7 Describe the different types of loops in Python and their use cases with examples\n",
        "\n",
        "There are two types of loops in Python : For loop & While loop\n",
        "\n",
        "While loop:It is used to execute a block of statements repeatedly untill a given condition is satisfied.\n"
      ],
      "metadata": {
        "id": "WSS1XobQ_xoV"
      }
    },
    {
      "cell_type": "code",
      "source": [
        "count=0\n",
        "while count<5:\n",
        "  print(count)\n",
        "  count=count+1"
      ],
      "metadata": {
        "colab": {
          "base_uri": "https://localhost:8080/"
        },
        "id": "Bn3aOUQ5Ahuw",
        "outputId": "7d4727be-bee5-4de6-c438-a748733e520c"
      },
      "execution_count": 10,
      "outputs": [
        {
          "output_type": "stream",
          "name": "stdout",
          "text": [
            "0\n",
            "1\n",
            "2\n",
            "3\n",
            "4\n"
          ]
        }
      ]
    },
    {
      "cell_type": "markdown",
      "source": [
        "For loop:it is sequential transversal."
      ],
      "metadata": {
        "id": "jgarngFeAmNY"
      }
    },
    {
      "cell_type": "code",
      "source": [
        "n=4\n",
        "for i in range(0,n):\n",
        "  print(i)"
      ],
      "metadata": {
        "colab": {
          "base_uri": "https://localhost:8080/"
        },
        "id": "wVnWH_w4AyCN",
        "outputId": "34ab9969-c368-4449-d33a-3b7e7d6f4f25"
      },
      "execution_count": 11,
      "outputs": [
        {
          "output_type": "stream",
          "name": "stdout",
          "text": [
            "0\n",
            "1\n",
            "2\n",
            "3\n"
          ]
        }
      ]
    }
  ]
}