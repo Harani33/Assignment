{
  "nbformat": 4,
  "nbformat_minor": 0,
  "metadata": {
    "colab": {
      "provenance": []
    },
    "kernelspec": {
      "name": "python3",
      "display_name": "Python 3"
    },
    "language_info": {
      "name": "python"
    }
  },
  "cells": [
    {
      "cell_type": "markdown",
      "source": [
        "Theoretical Questions:\n",
        "\n",
        "1. Explain the purpose and advantages of NumPy in scientific computing and data analysis. How does it\n",
        "enhance Python's capabilities for numerical operations?\n",
        "\n",
        "\n",
        "Purpose:\n",
        "*  Numpy means Numerical Python.\n",
        "*  It offers powerful features for\n",
        "   working with multi dimension arrays and performing various mathematical operational efficiently.\n",
        "* It is a fundamental library for\n",
        "  scientific computing.\n",
        "* It is an open-source Python library that has a wide-range of inbuilt functions.\n",
        "\n",
        "Advantages:\n",
        "\n",
        "* It is a capable  of handling amounts of homogeneous data\n",
        "* It also provides high-level syntax for a wide range of numerical operations.\n",
        "** Pythons ability to handle decimal numbers enables exact arithmetic operations, which are particularly helpful in financial applications where precision is essential.  \n",
        "** Python's decimal module helps prevent rounding errors to floating point intergers and allows arbitory precision arithmetic.\n",
        "\n",
        "\n",
        "\n"
      ],
      "metadata": {
        "id": "iKu37_kZiBrH"
      }
    },
    {
      "cell_type": "markdown",
      "source": [
        "2. Compare and contrast np.mean() and np.average() functions in NumPy. When would you use one over the\n",
        "other?\n",
        "\n",
        "np.mean():It is a function used to calculate arithmetic mean of given array along with the given axis.\n",
        "* All the elements have equal weight.\n",
        "* Weight cannot be passed through the parameter of the given function.\n",
        "Syntax: np.mean(arr,axis=None)\n",
        "\n",
        "np.avaerage():The arithmatic mean and weighted average calculations are more flexible with np.average()\n",
        "* All the elements may and may not have equal weights.\n",
        "* Weights can be passed through the parameter of the given function.\n",
        "Syntax:numpy.average(arr,axis=None,Weights=None)\n",
        "\n",
        "-->Both np.mean() and np.average() does the same job of calculating mean/average, the only difference comes when we are calculating the weighted average.\n",
        "In this case we use np.average() than np.mean()"
      ],
      "metadata": {
        "id": "u_DicLJakjUM"
      }
    },
    {
      "cell_type": "markdown",
      "source": [
        "3. Describe the methods for reversing a NumPy array along different axes. Provide examples for 1D and 2D arrays\n",
        "\n",
        "Numpy's np.flip() allows to flip or reverse the contents of an array along an axis.Numpys reverse the contents of all axis of input array if we don't specify the axis.\n",
        "for 1-D array\n",
        ""
      ],
      "metadata": {
        "id": "q_seeLf9mwhv"
      }
    },
    {
      "cell_type": "code",
      "source": [
        "arr=np.array([1,2,3,4,5,6,7,8])\n",
        "reversed_arr=np.flip(arr)\n",
        "print('Reversed Array:',reversed_arr)"
      ],
      "metadata": {
        "colab": {
          "base_uri": "https://localhost:8080/"
        },
        "id": "Zd4redC0nxNC",
        "outputId": "185ea54b-63a2-4c22-8981-275fd6ab9804"
      },
      "execution_count": 34,
      "outputs": [
        {
          "output_type": "stream",
          "name": "stdout",
          "text": [
            "Reversed Array: [8 7 6 5 4 3 2 1]\n"
          ]
        }
      ]
    },
    {
      "cell_type": "code",
      "source": [
        "arr=np.array([[1,2,3],[5,6,7]])\n",
        "reversed_arr=np.flip(arr)\n",
        "print(reversed_arr)"
      ],
      "metadata": {
        "colab": {
          "base_uri": "https://localhost:8080/"
        },
        "id": "xWUyI8Zwo5k1",
        "outputId": "3b11966f-4943-4c5e-dcb4-2dcb97fb2ad0"
      },
      "execution_count": 40,
      "outputs": [
        {
          "output_type": "stream",
          "name": "stdout",
          "text": [
            "[[7 6 5]\n",
            " [3 2 1]]\n"
          ]
        }
      ]
    },
    {
      "cell_type": "markdown",
      "source": [
        "4. How can you determine the data type of elements in a NumPy array? Discuss the importance of data types in memory management and performance.\n",
        "\n",
        "Numerical data types: the 5 basic numerical types represnting booleans(bool),intergers(int),unsignes integers(int),floating point(float), and complex.\n",
        "\n",
        "\n",
        "*  Basic numerical type name combined with a numeric bitsize defines a concrete type.the bitwise is the number of bits that are neede to represent a single va;lue in memory.For example numpy.float64 is a 64-bit floating point data type.\n",
        "\n",
        "Data type of string and Bytes:Numpy supports storing unicode strings the numpy.str_ dtype(u character code),null-terminated byte(numpy.bytes_)(s character code), and arbitary byte numpy.void(v character code).These are fixed -width data types.They are parameterized by a width, in either byets or unicode points, thatr are  a single data element in the array must fit inside.This means that storing an array of buyte sequences or strings using this data type requires calculating the sizes of the largest test or byte sequence\n",
        "\n"
      ],
      "metadata": {
        "id": "UAjMSE9yoQFv"
      }
    },
    {
      "cell_type": "markdown",
      "source": [
        "5. Define ndarrays in NumPy and explain their key features. How do they differ from standard Python lists?\n",
        "\n",
        "ndarrays:N-Dimensional array in Numpy.\n",
        "An array class in numpy is called as ndarray.\n",
        "It is a multidimensional container of items of the sametype and size.\n",
        "The contents of an ndarray can be accesed and modified of dimensions of the array is defined by its shape.\n",
        "ndarray in NumPy is array in memory stores a homogenous data.\n",
        "Python list is a heterogeneous lists.The main difference is list can store multiple data types at one time."
      ],
      "metadata": {
        "id": "KGM1xJDZsK50"
      }
    },
    {
      "cell_type": "markdown",
      "source": [
        "6. Analyze the performance benefits of NumPy arrays over Python lists for large-scale numerical operations.\n",
        "\n",
        "Performance benefits:NumPy array are optimized for numerical computations, with effecient element-wise operations and mathematical functions.The operations resolting in fastre performance than equivalent operations in lists.\n",
        "Python's NumPy library supports optimizes numerical array and matrix operations.\n",
        "\n",
        "Python's lists: Lists are not optimized for numerical computations and may have slower mathematical operations due to Python's interpretation overhead.They are generally used as general-purpose data structures.\n",
        "* A list is a built-in data structures that can hold elements of varying data types. The flexibility of lists comes at the cost of memory efficiency."
      ],
      "metadata": {
        "id": "bOWsaRrJtN8w"
      }
    },
    {
      "cell_type": "markdown",
      "source": [
        "7. Compare vstack() and hstack() functions in NumPy. Provide examples demonstrating their usage and output.\n",
        "\n",
        "vstack():The function is used to stack the sequence of input arrays vertically to make 2 single arrays.\n",
        "\n",
        "Syntax:numpy.vstack(tup)\n",
        "Parameters:\n",
        "tup:Tuple containing arrays to be stacked.The arrays must have the same shape along all but the first axis.\n",
        "\n",
        "Return:The Stacked array of the input arrays."
      ],
      "metadata": {
        "id": "ET24AiwZukbh"
      }
    },
    {
      "cell_type": "code",
      "source": [
        "in_arr1 = np.array([ 1, 2, 3])\n",
        "print(\"1st Input array : \\n\", in_arr1)\n",
        "in_arr2 = np.array([ 4, 5, 6])\n",
        "print(\"2nd Input array : \\n\", in_arr2)\n",
        "out_arr = np.vstack((in_arr1, in_arr2))\n",
        "print(\"Output vertically stacked array:\\n\", out_arr)"
      ],
      "metadata": {
        "colab": {
          "base_uri": "https://localhost:8080/"
        },
        "id": "whGOIYAGvcZ1",
        "outputId": "8d47e3d2-625b-42a3-8e6f-3419f42ce940"
      },
      "execution_count": 41,
      "outputs": [
        {
          "output_type": "stream",
          "name": "stdout",
          "text": [
            "1st Input array : \n",
            " [1 2 3]\n",
            "2nd Input array : \n",
            " [4 5 6]\n",
            "Output vertically stacked array:\n",
            " [[1 2 3]\n",
            " [4 5 6]]\n"
          ]
        }
      ]
    },
    {
      "cell_type": "markdown",
      "source": [
        "hstack():numpy.hstack() function is u=sed to stack the sequemnce of input arrays horizontally to make a single array.\n",
        "\n",
        "Syntax:numpy.hstack(tup)\n",
        "\n",
        "Parameters:\n",
        "tup:Tuple containing arrays to be stacked.The arrays must have the same shape along all the second axis.\n",
        "Return: The stacked array of the input arrays."
      ],
      "metadata": {
        "id": "VtqduKcxvrSM"
      }
    },
    {
      "cell_type": "code",
      "source": [
        "in_arr1 = np.array([ 1, 2, 3])\n",
        "print(\"1st Input array : \\n\", in_arr1)\n",
        "in_arr2 = np.array([ 4, 5, 6])\n",
        "print(\"2nd Input array : \\n\", in_arr2)\n",
        "out_arr = np.hstack((in_arr1, in_arr2))\n",
        "print(\"Output horizontally stacked array:\\n\", out_arr)"
      ],
      "metadata": {
        "colab": {
          "base_uri": "https://localhost:8080/"
        },
        "id": "5Ml0AesqwZ8F",
        "outputId": "34791694-1ee9-4f62-d46a-1e246d397b8d"
      },
      "execution_count": 42,
      "outputs": [
        {
          "output_type": "stream",
          "name": "stdout",
          "text": [
            "1st Input array : \n",
            " [1 2 3]\n",
            "2nd Input array : \n",
            " [4 5 6]\n",
            "Output horizontally stacked array:\n",
            " [1 2 3 4 5 6]\n"
          ]
        }
      ]
    },
    {
      "cell_type": "markdown",
      "source": [
        "8. Explain the differences between fliplr() and flipud() methods in NumPy, including their effects on various\n",
        "array dimensions.\n",
        "\n",
        "numpy.fliplr(m):It reverse the order of elements along with axis_1(left/right)\n",
        "For a 2-D array this flips of the entries in each row in the left/right direction columns are preserveds but appear in a different order than before.\n",
        "\n",
        "Parameter:\n",
        "m:array_like\n",
        "input array,must be atleast 2-D\n",
        "\n",
        "Returns :f:ndarray a view of m with the columns reversed.Since a view is returned, this operation is O(1).\n",
        "\n",
        "numpy.flipud(m):It is a reverse order of elements along axis 0 (up/down)\n",
        "\n",
        "for a 2-D  array, this flips thed entries in each column in the up/down direction.Rows are preserved, but appear in a different order than befpore.\n",
        "\n",
        "Parameters:m:array_like\n",
        "input array\n",
        "\n",
        "Returns:pout: array_like\n",
        "A view of m with the rows reserved.Since a view is returned,this operation is O(1)."
      ],
      "metadata": {
        "id": "SJ83HjygxPB6"
      }
    },
    {
      "cell_type": "markdown",
      "source": [
        "9.Discuss the functionality of the array_split() method in NumPy. How does it handle uneven splits?\n",
        "\n",
        "numpy.array_split() method, we can get the splitted array of yhaving different dimensions by using numpy.array_split() method.\n",
        "\n",
        "Syntax:numpy.array_split()\n",
        "\n",
        "Return:return the splitted array of one dimensions.\n",
        "array_split() splitting into equal or nearly equal sub-arrays or similar to numpy.Split(),but it allows for uneven splitting of arrays.This is useful when the array cannot be evenly divided by the specified number of splits."
      ],
      "metadata": {
        "id": "PorBUEQ8zTMz"
      }
    },
    {
      "cell_type": "markdown",
      "source": [
        "10. Explain the concepts of vectorization and broadcasting in NumPy. How do they contribute to efficient array\n",
        "operations?\n",
        "\n",
        "Vectorization : It enables the use of efficient pre-compliled functions and mathematical operations on nump[y arrays and adata sequences.Vertorization is a method of performing array operations without the use of loops.\n",
        "\n",
        "Broadcasting:It is a powerful featuer in NumPy that allows performing operations on arrays of different shapes under certain conditions.When operands havediffferent shapes NumPy expands the smaller array to match the larger one in a specific way to perform element-wise operations."
      ],
      "metadata": {
        "id": "x_VC3AY40ehz"
      }
    },
    {
      "cell_type": "markdown",
      "source": [
        "Practical Questions:\n",
        "\n",
        "1. Create a 3x3 NumPy array with random integers between 1 and 100. Then, interchange its rows and columns"
      ],
      "metadata": {
        "id": "qclfOH0G70Nk"
      }
    },
    {
      "cell_type": "code",
      "source": [
        "import numpy as np\n",
        "x=np.random.randint(1,100,(3,3))\n",
        "print(x)\n",
        "y=x[::-1, ::-1]\n",
        "print(y)"
      ],
      "metadata": {
        "colab": {
          "base_uri": "https://localhost:8080/"
        },
        "id": "lYTBg5Bs8EUm",
        "outputId": "138555f9-b0c8-405e-e706-e6ee569f9910"
      },
      "execution_count": 3,
      "outputs": [
        {
          "output_type": "stream",
          "name": "stdout",
          "text": [
            "[[95  2 54]\n",
            " [56 52 57]\n",
            " [39 50 44]]\n",
            "[[44 50 39]\n",
            " [57 52 56]\n",
            " [54  2 95]]\n"
          ]
        }
      ]
    },
    {
      "cell_type": "markdown",
      "source": [
        "\n",
        "2. Generate a 1D NumPy array with 10 elements. Reshape it into a 2x5 array, then into a 5x2 array"
      ],
      "metadata": {
        "id": "45evtsZ1-4MG"
      }
    },
    {
      "cell_type": "code",
      "source": [
        "import numpy as np\n",
        "list=np.arange(1,11)\n",
        "print(list)\n",
        "x=list.reshape(2,5)\n",
        "print(x)\n",
        "y=list.reshape(5,2)\n",
        "print(y)"
      ],
      "metadata": {
        "colab": {
          "base_uri": "https://localhost:8080/"
        },
        "id": "J2CwPV1A--3N",
        "outputId": "cb37fe92-fc1e-4495-f840-e70da9fd619d"
      },
      "execution_count": 4,
      "outputs": [
        {
          "output_type": "stream",
          "name": "stdout",
          "text": [
            "[ 1  2  3  4  5  6  7  8  9 10]\n",
            "[[ 1  2  3  4  5]\n",
            " [ 6  7  8  9 10]]\n",
            "[[ 1  2]\n",
            " [ 3  4]\n",
            " [ 5  6]\n",
            " [ 7  8]\n",
            " [ 9 10]]\n"
          ]
        }
      ]
    },
    {
      "cell_type": "markdown",
      "source": [
        "3. Create a 4x4 NumPy array with random float values. Add a border of zeros around it, resulting in a 6x6 array."
      ],
      "metadata": {
        "id": "9y9JDSj9_prM"
      }
    },
    {
      "cell_type": "code",
      "source": [
        "import numpy as np\n",
        "x=np.random.rand(4,4)\n",
        "print(x)\n",
        "y=np.pad(x, pad_width=1, mode='constant', constant_values=0)\n",
        "print(y)"
      ],
      "metadata": {
        "colab": {
          "base_uri": "https://localhost:8080/"
        },
        "id": "Muf4-uve_5X3",
        "outputId": "f1072d5a-261f-44d5-862b-590394bac34d"
      },
      "execution_count": 5,
      "outputs": [
        {
          "output_type": "stream",
          "name": "stdout",
          "text": [
            "[[0.4263849  0.22071988 0.26896207 0.06657161]\n",
            " [0.89304677 0.43048657 0.96171447 0.04035569]\n",
            " [0.3856317  0.65988935 0.95546474 0.44735411]\n",
            " [0.13113673 0.05742021 0.69323311 0.62175993]]\n",
            "[[0.         0.         0.         0.         0.         0.        ]\n",
            " [0.         0.4263849  0.22071988 0.26896207 0.06657161 0.        ]\n",
            " [0.         0.89304677 0.43048657 0.96171447 0.04035569 0.        ]\n",
            " [0.         0.3856317  0.65988935 0.95546474 0.44735411 0.        ]\n",
            " [0.         0.13113673 0.05742021 0.69323311 0.62175993 0.        ]\n",
            " [0.         0.         0.         0.         0.         0.        ]]\n"
          ]
        }
      ]
    },
    {
      "cell_type": "markdown",
      "source": [
        "4. Using NumPy, create an array of integers from 10 to 60 with a step of 5."
      ],
      "metadata": {
        "id": "LG3FBna6AWav"
      }
    },
    {
      "cell_type": "code",
      "source": [
        "import numpy as np\n",
        "x=np.arange(10,60,5)\n",
        "print(x)"
      ],
      "metadata": {
        "colab": {
          "base_uri": "https://localhost:8080/"
        },
        "id": "csqxPdgOAcgN",
        "outputId": "25ff343c-1e71-4e28-bdc0-5facadd0489c"
      },
      "execution_count": 6,
      "outputs": [
        {
          "output_type": "stream",
          "name": "stdout",
          "text": [
            "[10 15 20 25 30 35 40 45 50 55]\n"
          ]
        }
      ]
    },
    {
      "cell_type": "markdown",
      "source": [
        "5. Create a NumPy array of strings ['python', 'numpy', 'pandas']. Apply different case transformations\n",
        "(uppercase, lowercase, title case, etc.) to each element."
      ],
      "metadata": {
        "id": "4sS6AhwUAlvq"
      }
    },
    {
      "cell_type": "code",
      "source": [
        "import numpy as np\n",
        "x=np.array(['python', 'numpy', 'pandas'])\n",
        "print(x)\n",
        "y=np.char.upper(x)\n",
        "print(y)\n",
        "z=np.char.lower(x)\n",
        "print(z)\n",
        "a=np.char.title(x)\n",
        "print(a)"
      ],
      "metadata": {
        "colab": {
          "base_uri": "https://localhost:8080/"
        },
        "id": "kPFm2xq7ArcW",
        "outputId": "3f1fefcd-61d8-4c43-93e5-74bd3a837c80"
      },
      "execution_count": 8,
      "outputs": [
        {
          "output_type": "stream",
          "name": "stdout",
          "text": [
            "['python' 'numpy' 'pandas']\n",
            "['PYTHON' 'NUMPY' 'PANDAS']\n",
            "['python' 'numpy' 'pandas']\n",
            "['Python' 'Numpy' 'Pandas']\n"
          ]
        }
      ]
    },
    {
      "cell_type": "markdown",
      "source": [
        "6. Generate a NumPy array of words. Insert a space between each character of every word in the array."
      ],
      "metadata": {
        "id": "Es4sQuBLA-IN"
      }
    },
    {
      "cell_type": "code",
      "source": [
        "import numpy as np\n",
        "x=np.array(['insert', 'numpy', 'array'])\n",
        "print(x)\n",
        "y=np.char.join(' ', x)\n",
        "print(y)"
      ],
      "metadata": {
        "colab": {
          "base_uri": "https://localhost:8080/"
        },
        "id": "WRxc2ozLBIou",
        "outputId": "6f92ade6-382d-4a3a-ef1e-3ae9c19b3812"
      },
      "execution_count": 9,
      "outputs": [
        {
          "output_type": "stream",
          "name": "stdout",
          "text": [
            "['insert' 'numpy' 'array']\n",
            "['i n s e r t' 'n u m p y' 'a r r a y']\n"
          ]
        }
      ]
    },
    {
      "cell_type": "markdown",
      "source": [
        "7. Create two 2D NumPy arrays and perform element-wise addition, subtraction, multiplication, and division."
      ],
      "metadata": {
        "id": "0KTycmpDBrWY"
      }
    },
    {
      "cell_type": "code",
      "source": [
        "import numpy as np\n",
        "x=np.array([[1,2,3],[4,5,6]])\n",
        "print(x)\n",
        "y=np.array([[7,8,9],[10,11,12]])\n",
        "print(y)\n",
        "z=x+y\n",
        "print(z)\n",
        "a=x-y\n",
        "print(a)\n",
        "b=x*y\n",
        "print(b)\n",
        "c=x/y\n",
        "print(c)"
      ],
      "metadata": {
        "colab": {
          "base_uri": "https://localhost:8080/"
        },
        "id": "_-KhrxBNBy8k",
        "outputId": "20aaffb7-5f4b-4309-ff2e-e74199219f94"
      },
      "execution_count": 10,
      "outputs": [
        {
          "output_type": "stream",
          "name": "stdout",
          "text": [
            "[[1 2 3]\n",
            " [4 5 6]]\n",
            "[[ 7  8  9]\n",
            " [10 11 12]]\n",
            "[[ 8 10 12]\n",
            " [14 16 18]]\n",
            "[[-6 -6 -6]\n",
            " [-6 -6 -6]]\n",
            "[[ 7 16 27]\n",
            " [40 55 72]]\n",
            "[[0.14285714 0.25       0.33333333]\n",
            " [0.4        0.45454545 0.5       ]]\n"
          ]
        }
      ]
    },
    {
      "cell_type": "markdown",
      "source": [
        "8. Use NumPy to create a 5x5 identity matrix, then extract its diagonal elements."
      ],
      "metadata": {
        "id": "DoNbn4A1Cezs"
      }
    },
    {
      "cell_type": "code",
      "source": [
        "import numpy as np\n",
        "x=np.ones((5,5))\n",
        "x=np.identity(5)\n",
        "print(x)\n",
        "y=np.diag(x)\n",
        "print(y)"
      ],
      "metadata": {
        "colab": {
          "base_uri": "https://localhost:8080/"
        },
        "id": "zOUO494OChfA",
        "outputId": "56fe7c54-651b-4537-bdf9-4fbf544eeca3"
      },
      "execution_count": 25,
      "outputs": [
        {
          "output_type": "stream",
          "name": "stdout",
          "text": [
            "[[1. 0. 0. 0. 0.]\n",
            " [0. 1. 0. 0. 0.]\n",
            " [0. 0. 1. 0. 0.]\n",
            " [0. 0. 0. 1. 0.]\n",
            " [0. 0. 0. 0. 1.]]\n",
            "[1. 1. 1. 1. 1.]\n"
          ]
        }
      ]
    },
    {
      "cell_type": "markdown",
      "source": [
        "9. Generate a NumPy array of 100 random integers between 0 and 1000. Find and display all prime numbers in\n",
        "this array."
      ],
      "metadata": {
        "id": "p1SNRD9cFqS6"
      }
    },
    {
      "cell_type": "code",
      "source": [
        "import numpy as np\n",
        "x=np.random.randint(0,1000,100)\n",
        "print(x)"
      ],
      "metadata": {
        "colab": {
          "base_uri": "https://localhost:8080/"
        },
        "id": "bricFXISFxC4",
        "outputId": "1e7f7f24-da2b-4ffe-bb44-a874db67baa6"
      },
      "execution_count": 26,
      "outputs": [
        {
          "output_type": "stream",
          "name": "stdout",
          "text": [
            "[892 654 700 192 119  32 240 664 311 132 369 378 178  84 213 678 906 369\n",
            " 918 810 576 812  70 173 483 334  52 273 919 676 887 233  58 329 842 760\n",
            " 339 228 929 663 758 401 798 592 497 579 426 349 935 471 825 156 621 562\n",
            " 976 868 275 910 188 477 469 112 280 208 658 484 187 424 649 509  30 201\n",
            " 564 661 265 481  67 867 119 717 391 202 532 718 670 877 253 398  74 729\n",
            " 630 499 914 745 551 788 920   0 278 673]\n"
          ]
        }
      ]
    },
    {
      "cell_type": "markdown",
      "source": [
        "10. Create a NumPy array representing daily temperatures for a month. Calculate and display the weekly\n",
        "averages."
      ],
      "metadata": {
        "id": "A1I3ECZ7F4Aj"
      }
    },
    {
      "cell_type": "code",
      "source": [
        "import numpy as np\n",
        "import sys\n",
        "import numpy.ma as map\n",
        "from datetime import datetime as dt\n",
        "\n"
      ],
      "metadata": {
        "id": "l0cdNI5NF7LY"
      },
      "execution_count": 29,
      "outputs": []
    },
    {
      "cell_type": "markdown",
      "source": [],
      "metadata": {
        "id": "k0cHVTh-F3-t"
      }
    },
    {
      "cell_type": "markdown",
      "source": [],
      "metadata": {
        "id": "EJBr9kfdiAft"
      }
    }
  ]
}